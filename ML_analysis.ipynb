{
 "cells": [
  {
   "cell_type": "markdown",
   "id": "ffb334b2-670b-489d-9fa9-39cf32781a7a",
   "metadata": {
    "tags": []
   },
   "source": [
    "## CREATE SPARK SESSION "
   ]
  },
  {
   "cell_type": "code",
   "execution_count": 1,
   "id": "cf5c7284-df26-4da5-ae31-ffa285e908ec",
   "metadata": {},
   "outputs": [
    {
     "data": {
      "text/html": [
       "\n",
       "        <div>\n",
       "            <p><b>SparkContext</b></p>\n",
       "\n",
       "            <p><a href=\"http://matteos-air.eduroam.priv.unica.it:4041\">Spark UI</a></p>\n",
       "\n",
       "            <dl>\n",
       "              <dt>Version</dt>\n",
       "                <dd><code>v3.2.1</code></dd>\n",
       "              <dt>Master</dt>\n",
       "                <dd><code>local[*]</code></dd>\n",
       "              <dt>AppName</dt>\n",
       "                <dd><code>PySparkShell</code></dd>\n",
       "            </dl>\n",
       "        </div>\n",
       "        "
      ],
      "text/plain": [
       "<SparkContext master=local[*] appName=PySparkShell>"
      ]
     },
     "execution_count": 1,
     "metadata": {},
     "output_type": "execute_result"
    }
   ],
   "source": [
    "##link_dataset: https://www.kaggle.com/datasets/rushikeshdane20/nashik-apartment-price-prediction\n",
    "\n",
    "from pyspark.sql import SparkSession\n",
    "from pyspark.sql import functions\n",
    "spark = SparkSession.builder.appName('pyspark - example join').getOrCreate()\n",
    "sc = spark.sparkContext\n",
    "sc"
   ]
  },
  {
   "cell_type": "markdown",
   "id": "1f362d91-e65e-441e-85f5-35ab65e5d588",
   "metadata": {
    "tags": []
   },
   "source": [
    "## Import dataset"
   ]
  },
  {
   "cell_type": "code",
   "execution_count": 2,
   "id": "4672f666-ca4e-43e5-97d3-8c2e2d27b1af",
   "metadata": {},
   "outputs": [],
   "source": [
    "dname = \"project_biglab.csv\"\n",
    "datapath = os.path.join(\"/Users/matteofercia/Desktop/datascience/lab_bigdata/project\")"
   ]
  },
  {
   "cell_type": "code",
   "execution_count": 3,
   "id": "2af95eff-9ad7-49e4-b038-79fd2446dda6",
   "metadata": {},
   "outputs": [
    {
     "name": "stderr",
     "output_type": "stream",
     "text": [
      "                                                                                \r"
     ]
    }
   ],
   "source": [
    "#to read directly a csv file with spark without have to pass from pandas\n",
    "df = spark.read.csv(os.path.join(datapath,dname), header=True, inferSchema=True)"
   ]
  },
  {
   "cell_type": "code",
   "execution_count": 4,
   "id": "9a977ee1-a682-4bdd-a71f-998effced537",
   "metadata": {},
   "outputs": [
    {
     "name": "stdout",
     "output_type": "stream",
     "text": [
      "root\n",
      " |-- _c0: integer (nullable = true)\n",
      " |-- address: string (nullable = true)\n",
      " |-- owners: string (nullable = true)\n",
      " |-- housetype: string (nullable = true)\n",
      " |-- house_condition: string (nullable = true)\n",
      " |-- BHK: double (nullable = true)\n",
      " |-- price: double (nullable = true)\n",
      " |-- per_month_emi: double (nullable = true)\n",
      " |-- total_sqft: double (nullable = true)\n",
      " |-- cordinates: string (nullable = true)\n",
      " |-- latitude: double (nullable = true)\n",
      " |-- longitude: double (nullable = true)\n",
      "\n"
     ]
    }
   ],
   "source": [
    "df.printSchema()"
   ]
  },
  {
   "cell_type": "code",
   "execution_count": 5,
   "id": "d5c44290-0c74-47fd-a8c7-dbf584cb7bd2",
   "metadata": {},
   "outputs": [
    {
     "name": "stdout",
     "output_type": "stream",
     "text": [
      "+---+--------------------+---------------+---------+---------------+---+-----+-------------+----------+------------------+------------------+-----------------+\n",
      "|_c0|             address|         owners|housetype|house_condition|BHK|price|per_month_emi|total_sqft|        cordinates|          latitude|        longitude|\n",
      "+---+--------------------+---------------+---------+---------------+---+-----+-------------+----------+------------------+------------------+-----------------+\n",
      "|  0|Sheetal Vihar, Bh...|Mahendra Kotwal|Apartment|            old|3.0| 75.0|        39.72|    1550.0|     Sheetal Vihar|19.987960000000047|73.78739000000007|\n",
      "|  1|Samraat Dream Cit...| Jiten Dadarkar|Apartment|            old|2.0| 41.0|        21.71|    1000.0|Samraat Dream Citi| 19.98246000000006|73.81184000000006|\n",
      "+---+--------------------+---------------+---------+---------------+---+-----+-------------+----------+------------------+------------------+-----------------+\n",
      "only showing top 2 rows\n",
      "\n"
     ]
    },
    {
     "name": "stderr",
     "output_type": "stream",
     "text": [
      "22/04/26 15:28:14 WARN CSVHeaderChecker: CSV header does not conform to the schema.\n",
      " Header: , address, owners, housetype, house_condition, BHK, price, per_month_emi, total_sqft, cordinates, latitude, longitude\n",
      " Schema: _c0, address, owners, housetype, house_condition, BHK, price, per_month_emi, total_sqft, cordinates, latitude, longitude\n",
      "Expected: _c0 but found: \n",
      "CSV file: file:///Users/matteofercia/Desktop/datascience/lab_bigdata/project/project_biglab.csv\n"
     ]
    }
   ],
   "source": [
    "df.show(2)"
   ]
  },
  {
   "cell_type": "code",
   "execution_count": 6,
   "id": "8c539ff1-a26a-44c3-b74e-c6dcbcf30ea4",
   "metadata": {},
   "outputs": [
    {
     "data": {
      "text/plain": [
       "5496"
      ]
     },
     "execution_count": 6,
     "metadata": {},
     "output_type": "execute_result"
    }
   ],
   "source": [
    "df.count()  #n rows in the df"
   ]
  },
  {
   "cell_type": "code",
   "execution_count": 7,
   "id": "974eb01e-e4f9-4cfe-be26-e3686b8c1690",
   "metadata": {},
   "outputs": [
    {
     "data": {
      "text/plain": [
       "['_c0',\n",
       " 'address',\n",
       " 'owners',\n",
       " 'housetype',\n",
       " 'house_condition',\n",
       " 'BHK',\n",
       " 'price',\n",
       " 'per_month_emi',\n",
       " 'total_sqft',\n",
       " 'cordinates',\n",
       " 'latitude',\n",
       " 'longitude']"
      ]
     },
     "execution_count": 7,
     "metadata": {},
     "output_type": "execute_result"
    }
   ],
   "source": [
    "df.columns"
   ]
  },
  {
   "cell_type": "code",
   "execution_count": 8,
   "id": "931072a8-4e6d-445e-917a-c59672d434bb",
   "metadata": {},
   "outputs": [],
   "source": [
    "#Dupplicate the df to drop some columns we are not interested in \n",
    "df2 = df.alias('df2')"
   ]
  },
  {
   "cell_type": "code",
   "execution_count": 9,
   "id": "7b0f1fb5-3e7e-4c00-b58f-03efa06e2716",
   "metadata": {},
   "outputs": [
    {
     "data": {
      "text/plain": [
       "['_c0',\n",
       " 'address',\n",
       " 'owners',\n",
       " 'housetype',\n",
       " 'house_condition',\n",
       " 'BHK',\n",
       " 'price',\n",
       " 'per_month_emi',\n",
       " 'total_sqft',\n",
       " 'cordinates',\n",
       " 'latitude',\n",
       " 'longitude']"
      ]
     },
     "execution_count": 9,
     "metadata": {},
     "output_type": "execute_result"
    }
   ],
   "source": [
    "#df2.show(2)\n",
    "df2.columns"
   ]
  },
  {
   "cell_type": "code",
   "execution_count": 10,
   "id": "79266c61-d340-49c0-b856-91b9e2957078",
   "metadata": {},
   "outputs": [],
   "source": [
    "df2 = df2.drop('_c0','address','latitude','longitude','owners')"
   ]
  },
  {
   "cell_type": "markdown",
   "id": "4fa9d971-603d-46f0-8f98-89a7609c1360",
   "metadata": {
    "tags": []
   },
   "source": [
    "# Drop na and cleaning"
   ]
  },
  {
   "cell_type": "code",
   "execution_count": 11,
   "id": "a1970554-a475-4859-924e-21ec4c8acddd",
   "metadata": {},
   "outputs": [],
   "source": [
    "df2 = df2.where(\"total_sqft<25000\") #cutting outlier in total_sqft"
   ]
  },
  {
   "cell_type": "code",
   "execution_count": 12,
   "id": "5dda2178-d102-4a5a-9bd3-77740cb1f670",
   "metadata": {},
   "outputs": [],
   "source": [
    "df2 = df2.where(\"per_month_emi<300\") #cutting oper month emi over 300"
   ]
  },
  {
   "cell_type": "code",
   "execution_count": 13,
   "id": "fbd825ae-e007-4e37-94f0-170fc477c86f",
   "metadata": {},
   "outputs": [],
   "source": [
    "df2 = df2.na.drop()"
   ]
  },
  {
   "cell_type": "code",
   "execution_count": 14,
   "id": "11b1c145-59f8-4543-8a4e-d44d2e17a98c",
   "metadata": {},
   "outputs": [
    {
     "name": "stdout",
     "output_type": "stream",
     "text": [
      "root\n",
      " |-- housetype: string (nullable = true)\n",
      " |-- house_condition: string (nullable = true)\n",
      " |-- BHK: double (nullable = true)\n",
      " |-- price: double (nullable = true)\n",
      " |-- per_month_emi: double (nullable = true)\n",
      " |-- total_sqft: double (nullable = true)\n",
      " |-- cordinates: string (nullable = true)\n",
      "\n"
     ]
    }
   ],
   "source": [
    "df2.printSchema()"
   ]
  },
  {
   "cell_type": "code",
   "execution_count": 15,
   "id": "43fa72aa-d147-418e-983d-edc58d8b79fb",
   "metadata": {},
   "outputs": [
    {
     "name": "stdout",
     "output_type": "stream",
     "text": [
      "+---------+---------------+---+-----+-------------+----------+------------------+\n",
      "|housetype|house_condition|BHK|price|per_month_emi|total_sqft|        cordinates|\n",
      "+---------+---------------+---+-----+-------------+----------+------------------+\n",
      "|Apartment|            old|3.0| 75.0|        39.72|    1550.0|     Sheetal Vihar|\n",
      "|Apartment|            old|2.0| 41.0|        21.71|    1000.0|Samraat Dream Citi|\n",
      "+---------+---------------+---+-----+-------------+----------+------------------+\n",
      "only showing top 2 rows\n",
      "\n"
     ]
    }
   ],
   "source": [
    "df2.show(2)"
   ]
  },
  {
   "cell_type": "code",
   "execution_count": 16,
   "id": "8145e0a6-bea6-4e00-b582-9f2bafc933b0",
   "metadata": {},
   "outputs": [],
   "source": [
    "#transform some column type from string to numbers and boolean\n",
    "from pyspark.sql.types import IntegerType\n",
    "from pyspark.sql.types import FloatType\n",
    "from pyspark.sql.types import DoubleType\n",
    "from pyspark.sql.types import BooleanType\n",
    "from pyspark.sql.types import StringType"
   ]
  },
  {
   "cell_type": "code",
   "execution_count": 17,
   "id": "27ea2846-7245-4e55-8f19-0e8e6e891c54",
   "metadata": {},
   "outputs": [],
   "source": [
    "from pyspark.ml.feature import StringIndexer"
   ]
  },
  {
   "cell_type": "code",
   "execution_count": 19,
   "id": "79d0f491-9ba4-41f1-a5a7-63d1f8695eaf",
   "metadata": {},
   "outputs": [
    {
     "name": "stderr",
     "output_type": "stream",
     "text": [
      "                                                                                \r"
     ]
    }
   ],
   "source": [
    "indexed = StringIndexer(inputCol=\"house_condition\", outputCol=\"house_condition_x\").fit(df2).transform(df2)\n",
    "indexed = StringIndexer(inputCol=\"housetype\", outputCol=\"housetype_x\").fit(indexed).transform(indexed)"
   ]
  },
  {
   "cell_type": "code",
   "execution_count": 20,
   "id": "04e057b7-b2df-4796-bfa5-1af362cd26b5",
   "metadata": {},
   "outputs": [
    {
     "name": "stdout",
     "output_type": "stream",
     "text": [
      "root\n",
      " |-- housetype: string (nullable = true)\n",
      " |-- house_condition: string (nullable = true)\n",
      " |-- BHK: double (nullable = true)\n",
      " |-- price: double (nullable = true)\n",
      " |-- per_month_emi: double (nullable = true)\n",
      " |-- total_sqft: double (nullable = true)\n",
      " |-- cordinates: string (nullable = true)\n",
      " |-- house_condition_x: double (nullable = false)\n",
      " |-- housetype_x: double (nullable = false)\n",
      "\n"
     ]
    }
   ],
   "source": [
    "indexed.printSchema()"
   ]
  },
  {
   "cell_type": "code",
   "execution_count": 21,
   "id": "d44fb248-065a-469e-a901-8ea831f72979",
   "metadata": {},
   "outputs": [],
   "source": [
    "indexed = indexed.drop(\"owners\",\"housetype\",\"house_condition\",\"cordinates\")"
   ]
  },
  {
   "cell_type": "code",
   "execution_count": 22,
   "id": "c97bb1d2-d3c0-4fa1-a9aa-284c69ecb6e8",
   "metadata": {},
   "outputs": [
    {
     "name": "stdout",
     "output_type": "stream",
     "text": [
      "+---+-----+-------------+----------+-----------------+-----------+\n",
      "|BHK|price|per_month_emi|total_sqft|house_condition_x|housetype_x|\n",
      "+---+-----+-------------+----------+-----------------+-----------+\n",
      "|3.0| 75.0|        39.72|    1550.0|              0.0|        0.0|\n",
      "|2.0| 41.0|        21.71|    1000.0|              0.0|        0.0|\n",
      "|2.0|53.35|        28.25|     970.0|              0.0|        0.0|\n",
      "+---+-----+-------------+----------+-----------------+-----------+\n",
      "only showing top 3 rows\n",
      "\n"
     ]
    }
   ],
   "source": [
    "indexed.show(3)"
   ]
  },
  {
   "cell_type": "code",
   "execution_count": 23,
   "id": "804f1cb4-d876-4049-8915-9c0339832ffd",
   "metadata": {},
   "outputs": [
    {
     "data": {
      "text/plain": [
       "['BHK',\n",
       " 'price',\n",
       " 'per_month_emi',\n",
       " 'total_sqft',\n",
       " 'house_condition_x',\n",
       " 'housetype_x']"
      ]
     },
     "execution_count": 23,
     "metadata": {},
     "output_type": "execute_result"
    }
   ],
   "source": [
    "features = [ x for x in indexed.columns ]\n",
    "features"
   ]
  },
  {
   "cell_type": "code",
   "execution_count": 24,
   "id": "d135a19f-0aea-4fba-bb22-b31fa348aa1a",
   "metadata": {},
   "outputs": [],
   "source": [
    "features.remove('price')"
   ]
  },
  {
   "cell_type": "code",
   "execution_count": 25,
   "id": "452d16d3-aeed-42e0-8d8b-13d9cc996e9c",
   "metadata": {},
   "outputs": [
    {
     "data": {
      "text/plain": [
       "['BHK', 'per_month_emi', 'total_sqft', 'house_condition_x', 'housetype_x']"
      ]
     },
     "execution_count": 25,
     "metadata": {},
     "output_type": "execute_result"
    }
   ],
   "source": [
    "features"
   ]
  },
  {
   "cell_type": "markdown",
   "id": "cfc0905e-4102-499e-8305-d7a151b62e6d",
   "metadata": {
    "tags": []
   },
   "source": [
    "## Assembling"
   ]
  },
  {
   "cell_type": "code",
   "execution_count": 26,
   "id": "f1da98e2-0cc5-4736-a9ed-4268a678a562",
   "metadata": {},
   "outputs": [],
   "source": [
    "from pyspark.ml.linalg import Vectors\n",
    "from pyspark.ml.feature import VectorAssembler"
   ]
  },
  {
   "cell_type": "code",
   "execution_count": 27,
   "id": "2e02c1f0-6c35-436a-a4b9-e938f9a34348",
   "metadata": {},
   "outputs": [],
   "source": [
    "assembler= VectorAssembler(inputCols=features, outputCol=\"features\")"
   ]
  },
  {
   "cell_type": "code",
   "execution_count": 28,
   "id": "4642cb62-a20f-4e93-9aec-aee460377558",
   "metadata": {},
   "outputs": [
    {
     "data": {
      "text/plain": [
       "VectorAssembler_45dc04ce9e45"
      ]
     },
     "execution_count": 28,
     "metadata": {},
     "output_type": "execute_result"
    }
   ],
   "source": [
    "assembler"
   ]
  },
  {
   "cell_type": "code",
   "execution_count": 29,
   "id": "eea8fb3e-bb21-4ad8-b85a-c22727959ccb",
   "metadata": {},
   "outputs": [],
   "source": [
    "assembled = assembler.transform(indexed)"
   ]
  },
  {
   "cell_type": "code",
   "execution_count": 30,
   "id": "00f5710a-231b-494f-8212-299407e94381",
   "metadata": {},
   "outputs": [
    {
     "data": {
      "text/plain": [
       "DataFrame[BHK: double, price: double, per_month_emi: double, total_sqft: double, house_condition_x: double, housetype_x: double, features: vector]"
      ]
     },
     "execution_count": 30,
     "metadata": {},
     "output_type": "execute_result"
    }
   ],
   "source": [
    "assembled"
   ]
  },
  {
   "cell_type": "code",
   "execution_count": 31,
   "id": "e951a784-3b5b-4800-9bf1-6f860d8e5df9",
   "metadata": {},
   "outputs": [
    {
     "name": "stdout",
     "output_type": "stream",
     "text": [
      "+--------------------------+-----+\n",
      "|features                  |price|\n",
      "+--------------------------+-----+\n",
      "|[3.0,39.72,1550.0,0.0,0.0]|75.0 |\n",
      "|[2.0,21.71,1000.0,0.0,0.0]|41.0 |\n",
      "|[2.0,28.25,970.0,0.0,0.0] |53.35|\n",
      "|[2.0,29.13,1000.0,0.0,0.0]|55.0 |\n",
      "|[2.0,14.3,853.0,0.0,0.0]  |27.0 |\n",
      "+--------------------------+-----+\n",
      "only showing top 5 rows\n",
      "\n"
     ]
    }
   ],
   "source": [
    "assembled.select(\"features\",\"price\").show(5, truncate=False)"
   ]
  },
  {
   "cell_type": "code",
   "execution_count": 32,
   "id": "cf87a4f0-ec62-4232-a9a4-0d139c6a2732",
   "metadata": {},
   "outputs": [
    {
     "data": {
      "text/plain": [
       "DataFrame[BHK: double, price: double, per_month_emi: double, total_sqft: double, house_condition_x: double, housetype_x: double, features: vector]"
      ]
     },
     "execution_count": 32,
     "metadata": {},
     "output_type": "execute_result"
    }
   ],
   "source": [
    "assembled"
   ]
  },
  {
   "cell_type": "code",
   "execution_count": 33,
   "id": "ab8d9aee-a43a-4434-9e8b-2971d172fefa",
   "metadata": {},
   "outputs": [
    {
     "name": "stdout",
     "output_type": "stream",
     "text": [
      "+--------------------------+-----+\n",
      "|features                  |price|\n",
      "+--------------------------+-----+\n",
      "|[3.0,39.72,1550.0,0.0,0.0]|75.0 |\n",
      "|[2.0,21.71,1000.0,0.0,0.0]|41.0 |\n",
      "|[2.0,28.25,970.0,0.0,0.0] |53.35|\n",
      "|[2.0,29.13,1000.0,0.0,0.0]|55.0 |\n",
      "|[2.0,14.3,853.0,0.0,0.0]  |27.0 |\n",
      "+--------------------------+-----+\n",
      "only showing top 5 rows\n",
      "\n"
     ]
    }
   ],
   "source": [
    "data = assembled.select(\"features\",\"price\")\n",
    "data.show(5, truncate=False)"
   ]
  },
  {
   "cell_type": "markdown",
   "id": "41db645f-a9b0-41ab-8865-629350c9ec4e",
   "metadata": {
    "tags": []
   },
   "source": [
    "## Scaling data "
   ]
  },
  {
   "cell_type": "code",
   "execution_count": 34,
   "id": "09ca87ad-1bc5-4ee6-8ef8-79f1a8c2993e",
   "metadata": {},
   "outputs": [],
   "source": [
    "from pyspark.ml.feature import MinMaxScaler"
   ]
  },
  {
   "cell_type": "code",
   "execution_count": 35,
   "id": "03560039-2f07-4471-9370-28453a70a8a1",
   "metadata": {},
   "outputs": [],
   "source": [
    "scaler = MinMaxScaler(inputCol='features', outputCol=\"scaled_features\")"
   ]
  },
  {
   "cell_type": "code",
   "execution_count": 36,
   "id": "6924132c-3b25-4459-bf17-0a808f9d7ec0",
   "metadata": {},
   "outputs": [
    {
     "data": {
      "text/plain": [
       "['BHK', 'per_month_emi', 'total_sqft', 'house_condition_x', 'housetype_x']"
      ]
     },
     "execution_count": 36,
     "metadata": {},
     "output_type": "execute_result"
    }
   ],
   "source": [
    "features"
   ]
  },
  {
   "cell_type": "code",
   "execution_count": 37,
   "id": "e5c9f6d3-b45c-4d48-829f-e8573c1904c6",
   "metadata": {},
   "outputs": [
    {
     "data": {
      "text/plain": [
       "MinMaxScaler_e89cafd688fb"
      ]
     },
     "execution_count": 37,
     "metadata": {},
     "output_type": "execute_result"
    }
   ],
   "source": [
    "scaler"
   ]
  },
  {
   "cell_type": "code",
   "execution_count": 38,
   "id": "1dbf3b7d-92fe-4ad4-9e6a-eb8761f95cb3",
   "metadata": {},
   "outputs": [],
   "source": [
    "scaled = scaler.fit(data).transform(data)"
   ]
  },
  {
   "cell_type": "code",
   "execution_count": 39,
   "id": "82729bb8-d694-48f1-82fe-18183971f648",
   "metadata": {},
   "outputs": [
    {
     "data": {
      "text/plain": [
       "DataFrame[features: vector, price: double, scaled_features: vector]"
      ]
     },
     "execution_count": 39,
     "metadata": {},
     "output_type": "execute_result"
    }
   ],
   "source": [
    "scaled"
   ]
  },
  {
   "cell_type": "code",
   "execution_count": 40,
   "id": "8eda8d36-2e02-4643-8837-f205a10a1c78",
   "metadata": {},
   "outputs": [
    {
     "name": "stdout",
     "output_type": "stream",
     "text": [
      "+--------------------+-----+--------------------+\n",
      "|            features|price|     scaled_features|\n",
      "+--------------------+-----+--------------------+\n",
      "|[3.0,39.72,1550.0...| 75.0|[0.22222222222222...|\n",
      "|[2.0,21.71,1000.0...| 41.0|[0.11111111111111...|\n",
      "|[2.0,28.25,970.0,...|53.35|[0.11111111111111...|\n",
      "|[2.0,29.13,1000.0...| 55.0|[0.11111111111111...|\n",
      "|[2.0,14.3,853.0,0...| 27.0|[0.11111111111111...|\n",
      "+--------------------+-----+--------------------+\n",
      "only showing top 5 rows\n",
      "\n"
     ]
    }
   ],
   "source": [
    "scaled.show(5)"
   ]
  },
  {
   "cell_type": "markdown",
   "id": "52047c36-04bd-4ac5-8d14-e21d61ed88d2",
   "metadata": {
    "tags": []
   },
   "source": [
    "# Plotting"
   ]
  },
  {
   "cell_type": "code",
   "execution_count": 41,
   "id": "9e222975-f9ab-4b46-85c5-775424bec9a3",
   "metadata": {},
   "outputs": [],
   "source": [
    "import matplotlib.pyplot as plt\n",
    "import pandas as pd"
   ]
  },
  {
   "cell_type": "code",
   "execution_count": 42,
   "id": "2f42a69d-4598-4d78-9497-ac2c95599fd3",
   "metadata": {},
   "outputs": [],
   "source": [
    "pandas_df2 = df2.toPandas() #moving the df on pandas to use matplotlib"
   ]
  },
  {
   "cell_type": "code",
   "execution_count": 43,
   "id": "85530780-b2e5-49bc-8e14-1ca0e5fadaa5",
   "metadata": {},
   "outputs": [
    {
     "data": {
      "text/plain": [
       "<AxesSubplot:xlabel='price', ylabel='BHK'>"
      ]
     },
     "execution_count": 43,
     "metadata": {},
     "output_type": "execute_result"
    },
    {
     "data": {
      "image/png": "[encoded data removed]",
      "text/plain": [
       "<Figure size 432x288 with 1 Axes>"
      ]
     },
     "metadata": {
      "needs_background": "light"
     },
     "output_type": "display_data"
    }
   ],
   "source": [
    "pandas_df2.plot.scatter(x='price', y='BHK')  "
   ]
  },
  {
   "cell_type": "code",
   "execution_count": 44,
   "id": "8e9c5526-d2e1-4f27-b8e6-8bcdfd79f806",
   "metadata": {},
   "outputs": [
    {
     "data": {
      "text/plain": [
       "<AxesSubplot:xlabel='price', ylabel='housetype'>"
      ]
     },
     "execution_count": 44,
     "metadata": {},
     "output_type": "execute_result"
    },
    {
     "data": {
      "image/png": "[encoded data removed]",
      "text/plain": [
       "<Figure size 432x288 with 1 Axes>"
      ]
     },
     "metadata": {
      "needs_background": "light"
     },
     "output_type": "display_data"
    }
   ],
   "source": [
    "pandas_df2.plot.scatter(x='price', y='housetype')  "
   ]
  },
  {
   "cell_type": "code",
   "execution_count": 45,
   "id": "6fce7587-b3e4-44dc-8f19-2c9f409d3c19",
   "metadata": {},
   "outputs": [
    {
     "data": {
      "text/plain": [
       "<AxesSubplot:xlabel='price', ylabel='total_sqft'>"
      ]
     },
     "execution_count": 45,
     "metadata": {},
     "output_type": "execute_result"
    },
    {
     "data": {
      "image/png": "[encoded data removed]",
      "text/plain": [
       "<Figure size 432x288 with 1 Axes>"
      ]
     },
     "metadata": {
      "needs_background": "light"
     },
     "output_type": "display_data"
    }
   ],
   "source": [
    "pandas_df2.plot.scatter(x='price', y='total_sqft')"
   ]
  },
  {
   "cell_type": "code",
   "execution_count": 46,
   "id": "938a32df-6085-46de-9ab4-26c185368811",
   "metadata": {},
   "outputs": [
    {
     "data": {
      "text/plain": [
       "<AxesSubplot:xlabel='price', ylabel='house_condition'>"
      ]
     },
     "execution_count": 46,
     "metadata": {},
     "output_type": "execute_result"
    },
    {
     "data": {
      "image/png": "[encoded data removed]",
      "text/plain": [
       "<Figure size 432x288 with 1 Axes>"
      ]
     },
     "metadata": {
      "needs_background": "light"
     },
     "output_type": "display_data"
    }
   ],
   "source": [
    "pandas_df2.plot.scatter(x='price', y='house_condition')"
   ]
  },
  {
   "cell_type": "code",
   "execution_count": 47,
   "id": "ebe9ce71-1f51-4f1e-8d11-273981b4b6d6",
   "metadata": {},
   "outputs": [
    {
     "data": {
      "text/plain": [
       "<AxesSubplot:xlabel='price', ylabel='per_month_emi'>"
      ]
     },
     "execution_count": 47,
     "metadata": {},
     "output_type": "execute_result"
    },
    {
     "data": {
      "image/png": "[encoded data removed]",
      "text/plain": [
       "<Figure size 432x288 with 1 Axes>"
      ]
     },
     "metadata": {
      "needs_background": "light"
     },
     "output_type": "display_data"
    }
   ],
   "source": [
    "pandas_df2.plot.scatter(x='price', y='per_month_emi')"
   ]
  },
  {
   "cell_type": "markdown",
   "id": "5f2544f9-d8ef-4786-8f7d-07b85f36bfdf",
   "metadata": {
    "tags": []
   },
   "source": [
    "# Dividing Training and Test"
   ]
  },
  {
   "cell_type": "markdown",
   "id": "0772d97c-0bb9-4e53-bb1f-ac4201cdabb7",
   "metadata": {},
   "source": [
    "### To perform our ML analysis we devide the main df into train and test set"
   ]
  },
  {
   "cell_type": "code",
   "execution_count": 48,
   "id": "cfe46d79-6183-486a-aa04-30e2e2e61bec",
   "metadata": {},
   "outputs": [],
   "source": [
    "selected = assembled.select('features','price')"
   ]
  },
  {
   "cell_type": "code",
   "execution_count": 49,
   "id": "c4a5a892-7b9d-4393-9494-5da907405854",
   "metadata": {},
   "outputs": [
    {
     "data": {
      "text/plain": [
       "DataFrame[features: vector, price: double]"
      ]
     },
     "execution_count": 49,
     "metadata": {},
     "output_type": "execute_result"
    }
   ],
   "source": [
    "selected"
   ]
  },
  {
   "cell_type": "code",
   "execution_count": 50,
   "id": "7c055867-75b7-4469-8ad3-3105f1ef0199",
   "metadata": {},
   "outputs": [
    {
     "data": {
      "text/plain": [
       "[Row(features=DenseVector([10.0, 26.48, 1520.0, 0.0, 1.0]), price=50.0),\n",
       " Row(features=DenseVector([10.0, 62.06, 2500.0, 1.0, 1.0]), price=125.0)]"
      ]
     },
     "execution_count": 50,
     "metadata": {},
     "output_type": "execute_result"
    }
   ],
   "source": [
    "training_set, test_set = data.randomSplit([0.8,0.2], seed=0)\n",
    "training_set.tail(2)"
   ]
  },
  {
   "cell_type": "code",
   "execution_count": 51,
   "id": "36fd9017-347a-4856-95c3-7045c0904dad",
   "metadata": {},
   "outputs": [
    {
     "name": "stdout",
     "output_type": "stream",
     "text": [
      "+--------------------+-----+\n",
      "|            features|price|\n",
      "+--------------------+-----+\n",
      "|[1.0,1.99,1800.0,...|400.0|\n",
      "|[1.0,3.71,360.0,0...|  7.0|\n",
      "|[1.0,4.24,350.0,0...|  8.0|\n",
      "+--------------------+-----+\n",
      "only showing top 3 rows\n",
      "\n"
     ]
    }
   ],
   "source": [
    "training_set.show(3)"
   ]
  },
  {
   "cell_type": "code",
   "execution_count": 52,
   "id": "80af9e99-3cc4-4eaf-a971-f3527b0a1796",
   "metadata": {},
   "outputs": [
    {
     "name": "stdout",
     "output_type": "stream",
     "text": [
      "root\n",
      " |-- features: vector (nullable = true)\n",
      " |-- price: double (nullable = true)\n",
      "\n"
     ]
    }
   ],
   "source": [
    "test_set.printSchema()"
   ]
  },
  {
   "cell_type": "code",
   "execution_count": 53,
   "id": "f5bf4cc6-980f-48cf-9a73-a44b89ce1b70",
   "metadata": {},
   "outputs": [
    {
     "name": "stdout",
     "output_type": "stream",
     "text": [
      "+--------------------+-----+\n",
      "|            features|price|\n",
      "+--------------------+-----+\n",
      "|[1.0,6.09,270.0,0...| 11.5|\n",
      "|[1.0,6.35,250.0,1...| 12.0|\n",
      "+--------------------+-----+\n",
      "only showing top 2 rows\n",
      "\n"
     ]
    }
   ],
   "source": [
    "test_set.show(2)"
   ]
  },
  {
   "cell_type": "markdown",
   "id": "e38dcbe0-7f9b-4b3b-b2fa-2f6f1066a0c7",
   "metadata": {
    "tags": []
   },
   "source": [
    "# Linear regression 1 and 2"
   ]
  },
  {
   "cell_type": "code",
   "execution_count": 54,
   "id": "dae50603-b408-4d69-80a8-174101ed1cd2",
   "metadata": {},
   "outputs": [],
   "source": [
    "from pyspark.ml.regression import LinearRegression as LinearRegressor"
   ]
  },
  {
   "cell_type": "code",
   "execution_count": 55,
   "id": "647869cc-ccfc-4b56-b1a6-47ba48fdc265",
   "metadata": {},
   "outputs": [],
   "source": [
    "regressor = LinearRegressor(featuresCol='features', labelCol='price',predictionCol='prediction')"
   ]
  },
  {
   "cell_type": "code",
   "execution_count": 155,
   "id": "07e97234-1161-41af-b695-e97a2d5c9bb2",
   "metadata": {},
   "outputs": [],
   "source": [
    "model = regressor.fit(training_set)"
   ]
  },
  {
   "cell_type": "code",
   "execution_count": 57,
   "id": "20edbb5e-e620-4498-bae2-03ad83af966b",
   "metadata": {},
   "outputs": [],
   "source": [
    "test_data = test_set.select('features')"
   ]
  },
  {
   "cell_type": "code",
   "execution_count": 58,
   "id": "a83d83dd-2e06-425b-bf23-2104ccde4de7",
   "metadata": {},
   "outputs": [],
   "source": [
    "training_data = training_set.select('features')"
   ]
  },
  {
   "cell_type": "code",
   "execution_count": 59,
   "id": "7a6ee012-158d-4fad-a770-82e4b1b39437",
   "metadata": {},
   "outputs": [],
   "source": [
    "predictions_training = model.transform(training_data)"
   ]
  },
  {
   "cell_type": "code",
   "execution_count": 60,
   "id": "77954001-d768-43e1-8d99-aa585ab60826",
   "metadata": {},
   "outputs": [
    {
     "name": "stdout",
     "output_type": "stream",
     "text": [
      "+--------------------+------------------+\n",
      "|            features|        prediction|\n",
      "+--------------------+------------------+\n",
      "|[1.0,1.99,1800.0,...| 69.49322356076289|\n",
      "|[1.0,3.71,360.0,0...|0.5287385068777049|\n",
      "|[1.0,4.24,350.0,0...|0.2832368996486032|\n",
      "|[1.0,4.77,600.0,0...|17.812485324393457|\n",
      "|[1.0,4.77,1000.0,...| 33.92971377545115|\n",
      "+--------------------+------------------+\n",
      "only showing top 5 rows\n",
      "\n"
     ]
    }
   ],
   "source": [
    "predictions_training.show(5)"
   ]
  },
  {
   "cell_type": "code",
   "execution_count": 61,
   "id": "c91e1d3d-0b46-45bf-a138-8820f32d1d99",
   "metadata": {},
   "outputs": [],
   "source": [
    "predictions_test = model.transform(test_data)"
   ]
  },
  {
   "cell_type": "code",
   "execution_count": 62,
   "id": "e7a377ac-2783-419a-8bce-73085b56ebdb",
   "metadata": {},
   "outputs": [
    {
     "name": "stdout",
     "output_type": "stream",
     "text": [
      "+--------------------+------------------+\n",
      "|            features|        prediction|\n",
      "+--------------------+------------------+\n",
      "|[1.0,6.09,270.0,0...|-2.390692106624103|\n",
      "|[1.0,6.35,250.0,1...| 8.334040470737726|\n",
      "|[1.0,6.35,650.0,1...|17.152717383008977|\n",
      "|[1.0,6.35,1100.0,...| 35.28459939044888|\n",
      "|[1.0,6.62,525.0,0...|15.340021673758969|\n",
      "+--------------------+------------------+\n",
      "only showing top 5 rows\n",
      "\n"
     ]
    }
   ],
   "source": [
    "predictions_test.show(5)\n"
   ]
  },
  {
   "cell_type": "code",
   "execution_count": 63,
   "id": "7ac3b0b9-2468-4d6b-8e0e-b2d0293ff744",
   "metadata": {},
   "outputs": [
    {
     "name": "stdout",
     "output_type": "stream",
     "text": [
      "+--------------------+-----+\n",
      "|            features|price|\n",
      "+--------------------+-----+\n",
      "|[1.0,1.99,1800.0,...|400.0|\n",
      "|[1.0,3.71,360.0,0...|  7.0|\n",
      "|[1.0,4.24,350.0,0...|  8.0|\n",
      "|[1.0,4.77,600.0,0...|  9.0|\n",
      "|[1.0,4.77,1000.0,...|  9.0|\n",
      "|[1.0,5.03,350.0,0...|  9.5|\n",
      "|[1.0,5.03,400.0,0...|  9.5|\n",
      "|[1.0,5.3,370.0,1....| 10.0|\n",
      "|[1.0,5.3,400.0,0....| 10.0|\n",
      "|[1.0,5.3,430.0,1....| 10.0|\n",
      "+--------------------+-----+\n",
      "only showing top 10 rows\n",
      "\n"
     ]
    }
   ],
   "source": [
    "training_set.show(10)"
   ]
  },
  {
   "cell_type": "code",
   "execution_count": 64,
   "id": "1a5a4d7e-910b-4184-b101-605e9371a9ce",
   "metadata": {},
   "outputs": [],
   "source": [
    "training_result = model.evaluate(training_set)"
   ]
  },
  {
   "cell_type": "code",
   "execution_count": 65,
   "id": "b9e640cc-6574-42c9-b96f-2d93a89d860a",
   "metadata": {},
   "outputs": [
    {
     "name": "stdout",
     "output_type": "stream",
     "text": [
      "RMSE:28.025518616786623\n",
      "MSE:785.4296937398535\n",
      "R2:0.5533982270280893\n"
     ]
    }
   ],
   "source": [
    "print('RMSE:{}'.format(training_result.rootMeanSquaredError))\n",
    "print('MSE:{}'.format(training_result.meanSquaredError))\n",
    "print('R2:{}'.format(model.summary.r2))"
   ]
  },
  {
   "cell_type": "code",
   "execution_count": 66,
   "id": "bf368a1e-c574-475b-90b6-9d9d45b8e9e8",
   "metadata": {},
   "outputs": [
    {
     "name": "stdout",
     "output_type": "stream",
     "text": [
      "+--------------------+-----+\n",
      "|            features|price|\n",
      "+--------------------+-----+\n",
      "|[1.0,6.09,270.0,0...| 11.5|\n",
      "|[1.0,6.35,250.0,1...| 12.0|\n",
      "|[1.0,6.35,650.0,1...| 12.0|\n",
      "+--------------------+-----+\n",
      "only showing top 3 rows\n",
      "\n"
     ]
    }
   ],
   "source": [
    "test_set.show(3)"
   ]
  },
  {
   "cell_type": "code",
   "execution_count": 67,
   "id": "6a83e887-7b08-46a1-88f4-d0625beffed8",
   "metadata": {},
   "outputs": [],
   "source": [
    "test_result = model.evaluate(test_set)"
   ]
  },
  {
   "cell_type": "code",
   "execution_count": 68,
   "id": "53524cfe-73a0-42d3-b017-6e2faf172fee",
   "metadata": {},
   "outputs": [
    {
     "name": "stdout",
     "output_type": "stream",
     "text": [
      "RMSE:28.91383637946014\n",
      "MSE:836.0099341781927\n",
      "R2:0.4469033588333813\n"
     ]
    }
   ],
   "source": [
    "print('RMSE:{}'.format(test_result.rootMeanSquaredError))\n",
    "print('MSE:{}'.format(test_result.meanSquaredError))\n",
    "print('R2:{}'.format(test_result.r2))"
   ]
  },
  {
   "cell_type": "code",
   "execution_count": 69,
   "id": "d70a1588-7c24-4975-8d5e-0a5e2547b441",
   "metadata": {},
   "outputs": [],
   "source": [
    "price_target = test_set.select('price')"
   ]
  },
  {
   "cell_type": "code",
   "execution_count": 70,
   "id": "79d999af-4b01-4c2c-b2bc-3ea7ce6e2640",
   "metadata": {},
   "outputs": [
    {
     "name": "stdout",
     "output_type": "stream",
     "text": [
      "+-----+\n",
      "|price|\n",
      "+-----+\n",
      "| 11.5|\n",
      "| 12.0|\n",
      "| 12.0|\n",
      "| 12.0|\n",
      "| 12.5|\n",
      "+-----+\n",
      "only showing top 5 rows\n",
      "\n"
     ]
    }
   ],
   "source": [
    "price_target.show(5)"
   ]
  },
  {
   "cell_type": "code",
   "execution_count": 71,
   "id": "0987382c-3fb8-4037-a627-5b858a4b5a4f",
   "metadata": {},
   "outputs": [],
   "source": [
    "performance = model.evaluate(test_set)"
   ]
  },
  {
   "cell_type": "code",
   "execution_count": 72,
   "id": "4b6c6def-d768-46e7-b181-dcfa5ca539d3",
   "metadata": {},
   "outputs": [
    {
     "data": {
      "text/plain": [
       "836.0099341781927"
      ]
     },
     "execution_count": 72,
     "metadata": {},
     "output_type": "execute_result"
    }
   ],
   "source": [
    "performance.meanSquaredError"
   ]
  },
  {
   "cell_type": "code",
   "execution_count": 73,
   "id": "b7630c55-6598-416f-8aad-736685331799",
   "metadata": {},
   "outputs": [
    {
     "name": "stderr",
     "output_type": "stream",
     "text": [
      "/usr/local/Cellar/apache-spark/3.2.1/libexec/python/pyspark/sql/context.py:125: FutureWarning: Deprecated in 3.0.0. Use SparkSession.builder.getOrCreate() instead.\n",
      "  warnings.warn(\n"
     ]
    }
   ],
   "source": [
    "prediction = performance.predictions.select('prediction')"
   ]
  },
  {
   "cell_type": "code",
   "execution_count": 74,
   "id": "37f82710-52ce-4f10-be8c-182c56914a53",
   "metadata": {},
   "outputs": [
    {
     "name": "stdout",
     "output_type": "stream",
     "text": [
      "+------------------+\n",
      "|        prediction|\n",
      "+------------------+\n",
      "|-2.390692106624103|\n",
      "| 8.334040470737726|\n",
      "|17.152717383008977|\n",
      "| 35.28459939044888|\n",
      "|15.340021673758969|\n",
      "+------------------+\n",
      "only showing top 5 rows\n",
      "\n"
     ]
    }
   ],
   "source": [
    "prediction.show(5)"
   ]
  },
  {
   "cell_type": "code",
   "execution_count": 75,
   "id": "19ea5428-82f0-41ff-b335-7f664ca768f6",
   "metadata": {},
   "outputs": [],
   "source": [
    "import matplotlib.pyplot as plt\n",
    "price_points = [ item.price for item in price_target.collect()]"
   ]
  },
  {
   "cell_type": "code",
   "execution_count": 76,
   "id": "e2c1080c-6262-4f84-97e2-173ab1897a45",
   "metadata": {},
   "outputs": [
    {
     "data": {
      "text/plain": [
       "[11.5, 12.0, 12.0, 12.0, 12.5, 6.8, 12.91, 13.0, 13.0, 13.5]"
      ]
     },
     "execution_count": 76,
     "metadata": {},
     "output_type": "execute_result"
    }
   ],
   "source": [
    "price_points[:10]"
   ]
  },
  {
   "cell_type": "code",
   "execution_count": 77,
   "id": "4f674653-0644-48ee-976f-4da747d12612",
   "metadata": {},
   "outputs": [],
   "source": [
    "pred_points = [ item.prediction for item in prediction.collect() ]"
   ]
  },
  {
   "cell_type": "code",
   "execution_count": 78,
   "id": "cb17f7c8-81ff-4314-bc71-4de47221c890",
   "metadata": {},
   "outputs": [
    {
     "data": {
      "text/plain": [
       "[-2.390692106624103,\n",
       " 8.334040470737726,\n",
       " 17.152717383008977,\n",
       " 35.28459939044888,\n",
       " 15.340021673758969,\n",
       " 7.893471267501322,\n",
       " 14.67921542194454,\n",
       " 11.185599675654387,\n",
       " 17.184640510489288,\n",
       " 19.65226386713777]"
      ]
     },
     "execution_count": 78,
     "metadata": {},
     "output_type": "execute_result"
    }
   ],
   "source": [
    "pred_points[:10]"
   ]
  },
  {
   "cell_type": "code",
   "execution_count": 79,
   "id": "17e233e5-fed2-4ce6-a0ac-c766a1bd01c0",
   "metadata": {},
   "outputs": [
    {
     "data": {
      "text/plain": [
       "<matplotlib.collections.PathCollection at 0x115f87d00>"
      ]
     },
     "execution_count": 79,
     "metadata": {},
     "output_type": "execute_result"
    },
    {
     "data": {
      "image/png": "[encoded data removed]",
      "text/plain": [
       "<Figure size 432x288 with 1 Axes>"
      ]
     },
     "metadata": {
      "needs_background": "light"
     },
     "output_type": "display_data"
    }
   ],
   "source": [
    "plt.scatter(price_points, pred_points)"
   ]
  },
  {
   "cell_type": "markdown",
   "id": "1840a98d-dc74-4f61-b714-d1d5a2d6e4a3",
   "metadata": {},
   "source": [
    "### We can observe in this graph our model performs very well for prices from 0 to 150 and quite bad from 151 to upper values, we are going to reduce our dataset to focus on the relation 0-150"
   ]
  },
  {
   "cell_type": "markdown",
   "id": "c7dff497-59f0-4f00-a29b-6868d33f350f",
   "metadata": {
    "tags": []
   },
   "source": [
    "## Linear regression 1 with price from 0 to 150"
   ]
  },
  {
   "cell_type": "code",
   "execution_count": 80,
   "id": "3be9b19f-1152-4ada-8b25-e3b53eab5bfb",
   "metadata": {},
   "outputs": [
    {
     "name": "stdout",
     "output_type": "stream",
     "text": [
      "+--------------------------+-----+\n",
      "|features                  |price|\n",
      "+--------------------------+-----+\n",
      "|[3.0,39.72,1550.0,0.0,0.0]|75.0 |\n",
      "|[2.0,21.71,1000.0,0.0,0.0]|41.0 |\n",
      "|[2.0,28.25,970.0,0.0,0.0] |53.35|\n",
      "|[2.0,29.13,1000.0,0.0,0.0]|55.0 |\n",
      "|[2.0,14.3,853.0,0.0,0.0]  |27.0 |\n",
      "+--------------------------+-----+\n",
      "only showing top 5 rows\n",
      "\n"
     ]
    }
   ],
   "source": [
    "data.show(5, truncate=False)"
   ]
  },
  {
   "cell_type": "code",
   "execution_count": 81,
   "id": "20f95a26-e348-4a2f-9970-6d9c270724f0",
   "metadata": {},
   "outputs": [],
   "source": [
    "data_2 = data.where(\"price<150\") "
   ]
  },
  {
   "cell_type": "code",
   "execution_count": 82,
   "id": "8090f700-5f2c-49a6-8f09-68a2c69a32b2",
   "metadata": {},
   "outputs": [
    {
     "data": {
      "text/plain": [
       "3784"
      ]
     },
     "execution_count": 82,
     "metadata": {},
     "output_type": "execute_result"
    }
   ],
   "source": [
    "data_2.count()"
   ]
  },
  {
   "cell_type": "code",
   "execution_count": 83,
   "id": "cbe3488c-f340-49fa-a449-b1961cbb1e67",
   "metadata": {},
   "outputs": [
    {
     "name": "stdout",
     "output_type": "stream",
     "text": [
      "+--------------------+-----+\n",
      "|            features|price|\n",
      "+--------------------+-----+\n",
      "|[3.0,39.72,1550.0...| 75.0|\n",
      "|[2.0,21.71,1000.0...| 41.0|\n",
      "|[2.0,28.25,970.0,...|53.35|\n",
      "|[2.0,29.13,1000.0...| 55.0|\n",
      "|[2.0,14.3,853.0,0...| 27.0|\n",
      "+--------------------+-----+\n",
      "only showing top 5 rows\n",
      "\n"
     ]
    }
   ],
   "source": [
    "data_2.show(5)"
   ]
  },
  {
   "cell_type": "code",
   "execution_count": 84,
   "id": "e141312f-0826-47df-a6f9-7c03d384cfb7",
   "metadata": {},
   "outputs": [
    {
     "data": {
      "text/plain": [
       "[Row(features=DenseVector([10.0, 26.48, 1520.0, 0.0, 1.0]), price=50.0),\n",
       " Row(features=DenseVector([10.0, 62.06, 2500.0, 1.0, 1.0]), price=125.0)]"
      ]
     },
     "execution_count": 84,
     "metadata": {},
     "output_type": "execute_result"
    }
   ],
   "source": [
    "training_set_2, test_set_2 = data_2.randomSplit([0.8,0.2], seed=0)\n",
    "training_set_2.tail(2)"
   ]
  },
  {
   "cell_type": "code",
   "execution_count": 85,
   "id": "2bd82de1-e3cb-4ac5-9504-f43d46e1cd09",
   "metadata": {},
   "outputs": [],
   "source": [
    "regressor = LinearRegressor(featuresCol='features', labelCol='price',predictionCol='prediction')"
   ]
  },
  {
   "cell_type": "code",
   "execution_count": 86,
   "id": "7ab14154-dcbc-4950-8653-7172effd2d52",
   "metadata": {},
   "outputs": [
    {
     "name": "stderr",
     "output_type": "stream",
     "text": [
      "22/04/26 15:29:48 WARN Instrumentation: [26a8c028] regParam is zero, which might cause numerical instability and overfitting.\n"
     ]
    }
   ],
   "source": [
    "model_2 = regressor.fit(training_set_2)"
   ]
  },
  {
   "cell_type": "code",
   "execution_count": 87,
   "id": "521f7fb0-b1ad-43b4-b5ed-56150e4290b8",
   "metadata": {},
   "outputs": [],
   "source": [
    "test_data_2 = test_set_2.select('features')"
   ]
  },
  {
   "cell_type": "code",
   "execution_count": 88,
   "id": "15ba898e-e78e-4263-8ef9-a19d5a83e07f",
   "metadata": {},
   "outputs": [],
   "source": [
    "training_data_2 = training_set_2.select('features')"
   ]
  },
  {
   "cell_type": "code",
   "execution_count": 89,
   "id": "f5d03f2a-a2b6-4326-b99b-d25a685d6546",
   "metadata": {},
   "outputs": [],
   "source": [
    "predictions_training_2 = model.transform(training_data_2)"
   ]
  },
  {
   "cell_type": "code",
   "execution_count": 90,
   "id": "2768d727-0915-49ac-96c1-ec8c444da326",
   "metadata": {},
   "outputs": [],
   "source": [
    "predictions_test_2 = model_2.transform(test_data_2)"
   ]
  },
  {
   "cell_type": "code",
   "execution_count": 91,
   "id": "0f27a7b4-c9ae-4f5d-800d-d7ee6b4bc422",
   "metadata": {},
   "outputs": [],
   "source": [
    "training_result_2 = model_2.evaluate(training_set_2)"
   ]
  },
  {
   "cell_type": "code",
   "execution_count": 92,
   "id": "1dee6400-a5aa-4bdd-b177-c73ab353a92e",
   "metadata": {},
   "outputs": [
    {
     "name": "stdout",
     "output_type": "stream",
     "text": [
      "RMSE:6.937765963946868\n",
      "MSE:48.132596570499615\n",
      "R2:0.9107088603043545\n"
     ]
    }
   ],
   "source": [
    "print('RMSE:{}'.format(training_result_2.rootMeanSquaredError))\n",
    "print('MSE:{}'.format(training_result_2.meanSquaredError))\n",
    "print('R2:{}'.format(model_2.summary.r2))"
   ]
  },
  {
   "cell_type": "code",
   "execution_count": 93,
   "id": "f2595a8e-085f-49b6-9448-81a9a5f4ff53",
   "metadata": {},
   "outputs": [],
   "source": [
    "test_result_2 = model_2.evaluate(test_set_2)"
   ]
  },
  {
   "cell_type": "code",
   "execution_count": 94,
   "id": "c996e856-2393-43d3-808f-10ff67ba7a97",
   "metadata": {},
   "outputs": [
    {
     "name": "stdout",
     "output_type": "stream",
     "text": [
      "RMSE:7.044651043806006\n",
      "MSE:49.627108328997046\n",
      "R2:0.9132138990781951\n"
     ]
    }
   ],
   "source": [
    "print('RMSE:{}'.format(test_result_2.rootMeanSquaredError))\n",
    "print('MSE:{}'.format(test_result_2.meanSquaredError))\n",
    "print('R2:{}'.format(test_result_2.r2))"
   ]
  },
  {
   "cell_type": "code",
   "execution_count": 95,
   "id": "654a0963-5e65-4f7d-a37a-8f7e6b9f4e0c",
   "metadata": {},
   "outputs": [],
   "source": [
    "price_target_2 = test_set_2.select('price')"
   ]
  },
  {
   "cell_type": "code",
   "execution_count": 96,
   "id": "e8189ab2-920d-4f7b-89be-967628233608",
   "metadata": {},
   "outputs": [],
   "source": [
    "price_points_2 = [ item.price for item in price_target_2.collect()]"
   ]
  },
  {
   "cell_type": "code",
   "execution_count": 97,
   "id": "d414ab9d-89d0-41d1-949d-af0c49576afe",
   "metadata": {},
   "outputs": [],
   "source": [
    "performance_2 = model_2.evaluate(test_set_2)"
   ]
  },
  {
   "cell_type": "code",
   "execution_count": 98,
   "id": "cc869abe-81ab-4d8f-a0de-57eaf9785126",
   "metadata": {},
   "outputs": [],
   "source": [
    "prediction_2 = performance_2.predictions.select('prediction')"
   ]
  },
  {
   "cell_type": "code",
   "execution_count": 99,
   "id": "dbb16ac3-d590-42ed-bd0e-1949aec22a1e",
   "metadata": {},
   "outputs": [],
   "source": [
    "pred_points_2 = [ item.prediction for item in prediction_2.collect() ]"
   ]
  },
  {
   "cell_type": "code",
   "execution_count": 100,
   "id": "e2373ec1-c383-4f92-9628-95bcb9fd683b",
   "metadata": {},
   "outputs": [
    {
     "data": {
      "text/plain": [
       "<matplotlib.collections.PathCollection at 0x11601c6a0>"
      ]
     },
     "execution_count": 100,
     "metadata": {},
     "output_type": "execute_result"
    },
    {
     "data": {
      "image/png": "[encoded data removed]",
      "text/plain": [
       "<Figure size 432x288 with 1 Axes>"
      ]
     },
     "metadata": {
      "needs_background": "light"
     },
     "output_type": "display_data"
    }
   ],
   "source": [
    "plt.scatter(price_points_2, pred_points_2)"
   ]
  },
  {
   "cell_type": "markdown",
   "id": "91083c5e-9e99-47f4-9d84-0389073d206b",
   "metadata": {
    "tags": []
   },
   "source": [
    "# Linear regression 3 only with double features"
   ]
  },
  {
   "cell_type": "code",
   "execution_count": 101,
   "id": "82c4fd14-ef9c-482b-9b01-f958c9c01a4e",
   "metadata": {},
   "outputs": [],
   "source": [
    "df3 = df.alias('df3')"
   ]
  },
  {
   "cell_type": "code",
   "execution_count": 102,
   "id": "74cd39b3-9a9f-4078-a2a7-8d2733549e15",
   "metadata": {},
   "outputs": [],
   "source": [
    "df3 = df3.where(\"total_sqft<25000\") #cutting outlier in total_sqft"
   ]
  },
  {
   "cell_type": "code",
   "execution_count": 103,
   "id": "4162fb7a-c397-4944-aa90-84cf30f10b4c",
   "metadata": {},
   "outputs": [],
   "source": [
    "df3 = df3.where(\"per_month_emi<300\") #cutting per month emi over 300"
   ]
  },
  {
   "cell_type": "code",
   "execution_count": 104,
   "id": "f5ad180a-72e5-4011-8926-82eddf2cb11b",
   "metadata": {},
   "outputs": [],
   "source": [
    "df3 = df3.drop('_c0','address','latitude','longitude','owners','housetype','house_condition','cordinates')"
   ]
  },
  {
   "cell_type": "code",
   "execution_count": 105,
   "id": "8407c348-798d-439e-8420-3366aeed4109",
   "metadata": {},
   "outputs": [],
   "source": [
    "df3 = df3.na.drop()"
   ]
  },
  {
   "cell_type": "code",
   "execution_count": 106,
   "id": "638fea58-9dfb-48ac-a5da-017c5826d495",
   "metadata": {},
   "outputs": [
    {
     "name": "stdout",
     "output_type": "stream",
     "text": [
      "root\n",
      " |-- BHK: double (nullable = true)\n",
      " |-- price: double (nullable = true)\n",
      " |-- per_month_emi: double (nullable = true)\n",
      " |-- total_sqft: double (nullable = true)\n",
      "\n"
     ]
    }
   ],
   "source": [
    "df3.printSchema()"
   ]
  },
  {
   "cell_type": "code",
   "execution_count": 107,
   "id": "c6792805-4d09-449d-bdc2-79e180ea18d2",
   "metadata": {},
   "outputs": [
    {
     "name": "stdout",
     "output_type": "stream",
     "text": [
      "+---+-----+-------------+----------+\n",
      "|BHK|price|per_month_emi|total_sqft|\n",
      "+---+-----+-------------+----------+\n",
      "|3.0| 75.0|        39.72|    1550.0|\n",
      "|2.0| 41.0|        21.71|    1000.0|\n",
      "|2.0|53.35|        28.25|     970.0|\n",
      "+---+-----+-------------+----------+\n",
      "only showing top 3 rows\n",
      "\n"
     ]
    }
   ],
   "source": [
    "df3.show(3)"
   ]
  },
  {
   "cell_type": "code",
   "execution_count": 108,
   "id": "1aa88495-6978-4351-a414-14c24ef1f1ea",
   "metadata": {},
   "outputs": [
    {
     "data": {
      "text/plain": [
       "['BHK', 'price', 'per_month_emi', 'total_sqft']"
      ]
     },
     "execution_count": 108,
     "metadata": {},
     "output_type": "execute_result"
    }
   ],
   "source": [
    "features_3 = [ x for x in df3.columns ]\n",
    "features_3"
   ]
  },
  {
   "cell_type": "code",
   "execution_count": 109,
   "id": "e6f6c052-1669-4538-8c5f-65846c545de4",
   "metadata": {},
   "outputs": [],
   "source": [
    "features_3.remove('price')"
   ]
  },
  {
   "cell_type": "code",
   "execution_count": 110,
   "id": "85fee17f-6129-4ce7-9922-b58a63f37455",
   "metadata": {},
   "outputs": [],
   "source": [
    "assembler_3= VectorAssembler(inputCols=features_3, outputCol=\"features_3\")"
   ]
  },
  {
   "cell_type": "code",
   "execution_count": 111,
   "id": "03fa5d45-3a2c-4bae-935e-75dcc9ddb2f5",
   "metadata": {},
   "outputs": [
    {
     "data": {
      "text/plain": [
       "VectorAssembler_ecd16acb56b4"
      ]
     },
     "execution_count": 111,
     "metadata": {},
     "output_type": "execute_result"
    }
   ],
   "source": [
    "assembler_3"
   ]
  },
  {
   "cell_type": "code",
   "execution_count": 112,
   "id": "0680767e-b3ff-4077-afd0-3232c6dceabb",
   "metadata": {},
   "outputs": [],
   "source": [
    "assembled_3 = assembler_3.transform(df3)"
   ]
  },
  {
   "cell_type": "code",
   "execution_count": 113,
   "id": "de35c274-481e-460e-aaf3-b5d3d872dbc0",
   "metadata": {},
   "outputs": [
    {
     "data": {
      "text/plain": [
       "DataFrame[BHK: double, price: double, per_month_emi: double, total_sqft: double, features_3: vector]"
      ]
     },
     "execution_count": 113,
     "metadata": {},
     "output_type": "execute_result"
    }
   ],
   "source": [
    "assembled_3"
   ]
  },
  {
   "cell_type": "code",
   "execution_count": 114,
   "id": "84969ae2-de7e-461c-88f6-50facbea576a",
   "metadata": {},
   "outputs": [
    {
     "name": "stdout",
     "output_type": "stream",
     "text": [
      "+------------------+-----+\n",
      "|features_3        |price|\n",
      "+------------------+-----+\n",
      "|[3.0,39.72,1550.0]|75.0 |\n",
      "|[2.0,21.71,1000.0]|41.0 |\n",
      "|[2.0,28.25,970.0] |53.35|\n",
      "|[2.0,29.13,1000.0]|55.0 |\n",
      "|[2.0,14.3,853.0]  |27.0 |\n",
      "+------------------+-----+\n",
      "only showing top 5 rows\n",
      "\n"
     ]
    }
   ],
   "source": [
    "assembled_3.select(\"features_3\",\"price\").show(5, truncate=False)"
   ]
  },
  {
   "cell_type": "code",
   "execution_count": 115,
   "id": "9bf9fedb-b314-4ebd-9f32-33f4d351ca7f",
   "metadata": {},
   "outputs": [
    {
     "name": "stdout",
     "output_type": "stream",
     "text": [
      "+------------------+-----+\n",
      "|features_3        |price|\n",
      "+------------------+-----+\n",
      "|[3.0,39.72,1550.0]|75.0 |\n",
      "|[2.0,21.71,1000.0]|41.0 |\n",
      "|[2.0,28.25,970.0] |53.35|\n",
      "|[2.0,29.13,1000.0]|55.0 |\n",
      "|[2.0,14.3,853.0]  |27.0 |\n",
      "+------------------+-----+\n",
      "only showing top 5 rows\n",
      "\n"
     ]
    }
   ],
   "source": [
    "data_3 = assembled_3.select(\"features_3\",\"price\")\n",
    "data_3.show(5, truncate=False)"
   ]
  },
  {
   "cell_type": "code",
   "execution_count": 116,
   "id": "0d9d1092-e5bb-41fe-975b-1c43d7a86388",
   "metadata": {},
   "outputs": [
    {
     "data": {
      "text/plain": [
       "[Row(features_3=DenseVector([10.0, 26.48, 1520.0]), price=50.0),\n",
       " Row(features_3=DenseVector([10.0, 62.06, 2500.0]), price=125.0)]"
      ]
     },
     "execution_count": 116,
     "metadata": {},
     "output_type": "execute_result"
    }
   ],
   "source": [
    "training_set, test_set = data_3.randomSplit([0.8,0.2], seed=0)\n",
    "training_set.tail(2)"
   ]
  },
  {
   "cell_type": "code",
   "execution_count": 117,
   "id": "5400845b-dbca-437e-bc72-02eb715cfb1b",
   "metadata": {},
   "outputs": [],
   "source": [
    "regressor = LinearRegressor(featuresCol='features_3', labelCol='price',predictionCol='prediction')"
   ]
  },
  {
   "cell_type": "code",
   "execution_count": 118,
   "id": "26f78725-80cd-4c5b-a9b1-2fa3fcbe262e",
   "metadata": {},
   "outputs": [
    {
     "name": "stderr",
     "output_type": "stream",
     "text": [
      "22/04/26 15:30:02 WARN Instrumentation: [54a8f8fd] regParam is zero, which might cause numerical instability and overfitting.\n"
     ]
    }
   ],
   "source": [
    "model = regressor.fit(training_set)"
   ]
  },
  {
   "cell_type": "code",
   "execution_count": 119,
   "id": "26ecc68e-39e5-44b8-a294-127201c3b460",
   "metadata": {},
   "outputs": [],
   "source": [
    "test_data = test_set.select('features_3')"
   ]
  },
  {
   "cell_type": "code",
   "execution_count": 120,
   "id": "d743f6b5-c54c-4c81-b1f2-bc9bd618e038",
   "metadata": {},
   "outputs": [],
   "source": [
    "training_data = training_set.select('features_3')"
   ]
  },
  {
   "cell_type": "code",
   "execution_count": 121,
   "id": "aa3933fd-d164-4b55-a381-d95e27bfe92a",
   "metadata": {},
   "outputs": [],
   "source": [
    "predictions_training = model.transform(training_data)"
   ]
  },
  {
   "cell_type": "code",
   "execution_count": 122,
   "id": "f4027298-0a7c-45a7-bbc0-3d4ac1b27787",
   "metadata": {},
   "outputs": [
    {
     "name": "stdout",
     "output_type": "stream",
     "text": [
      "+-----------------+------------------+\n",
      "|       features_3|        prediction|\n",
      "+-----------------+------------------+\n",
      "|[1.0,1.99,1800.0]| 62.10357002430814|\n",
      "| [1.0,3.71,360.0]| 2.816943907572167|\n",
      "| [1.0,4.24,350.0]|2.5633099517215214|\n",
      "| [1.0,4.77,600.0]|13.108968185991262|\n",
      "|[1.0,4.77,1000.0]| 29.72326386309955|\n",
      "+-----------------+------------------+\n",
      "only showing top 5 rows\n",
      "\n"
     ]
    }
   ],
   "source": [
    "predictions_training.show(5)"
   ]
  },
  {
   "cell_type": "code",
   "execution_count": 123,
   "id": "32ebea91-f90e-4eaa-a5c5-616242e4b565",
   "metadata": {},
   "outputs": [],
   "source": [
    "predictions_test = model.transform(test_data)"
   ]
  },
  {
   "cell_type": "code",
   "execution_count": 124,
   "id": "5fa351c2-a881-44b5-af01-990dd01cfb87",
   "metadata": {},
   "outputs": [
    {
     "name": "stdout",
     "output_type": "stream",
     "text": [
      "+-----------------+-------------------+\n",
      "|       features_3|         prediction|\n",
      "+-----------------+-------------------+\n",
      "| [1.0,6.09,270.0]|-0.1950428502236008|\n",
      "| [1.0,6.35,250.0]|-0.9464216088336652|\n",
      "| [1.0,6.35,650.0]| 15.667874068274624|\n",
      "|[1.0,6.35,1100.0]|  34.35895670502144|\n",
      "| [1.0,6.62,525.0]| 10.558294080009993|\n",
      "+-----------------+-------------------+\n",
      "only showing top 5 rows\n",
      "\n"
     ]
    }
   ],
   "source": [
    "predictions_test.show(5)"
   ]
  },
  {
   "cell_type": "code",
   "execution_count": 125,
   "id": "eddf92a4-f0aa-4f4c-b1fd-9de0505ddf36",
   "metadata": {},
   "outputs": [],
   "source": [
    "training_result = model.evaluate(training_set)"
   ]
  },
  {
   "cell_type": "code",
   "execution_count": 126,
   "id": "6f0a9472-1fc7-4d6a-8bcf-29f2ebe79d50",
   "metadata": {},
   "outputs": [
    {
     "name": "stdout",
     "output_type": "stream",
     "text": [
      "RMSE:28.23249179598749\n",
      "MSE:797.0735930105009\n",
      "R2:0.5467774574652765\n"
     ]
    }
   ],
   "source": [
    "print('RMSE:{}'.format(training_result.rootMeanSquaredError))\n",
    "print('MSE:{}'.format(training_result.meanSquaredError))\n",
    "print('R2:{}'.format(model.summary.r2))"
   ]
  },
  {
   "cell_type": "code",
   "execution_count": 127,
   "id": "c921497c-a7a0-475a-934d-2823092e9a14",
   "metadata": {},
   "outputs": [],
   "source": [
    "test_result = model.evaluate(test_set)"
   ]
  },
  {
   "cell_type": "code",
   "execution_count": 128,
   "id": "5e94985f-1634-4c7d-b5e4-4ddd3c61384d",
   "metadata": {},
   "outputs": [
    {
     "name": "stdout",
     "output_type": "stream",
     "text": [
      "RMSE:29.11187551757263\n",
      "MSE:847.5012961506449\n",
      "R2:0.43930052705147604\n"
     ]
    }
   ],
   "source": [
    "print('RMSE:{}'.format(test_result.rootMeanSquaredError))\n",
    "print('MSE:{}'.format(test_result.meanSquaredError))\n",
    "print('R2:{}'.format(test_result.r2))"
   ]
  },
  {
   "cell_type": "markdown",
   "id": "105c649f-5ca6-4623-800a-00338d6fb81c",
   "metadata": {
    "tags": []
   },
   "source": [
    "# Clustering"
   ]
  },
  {
   "cell_type": "code",
   "execution_count": 129,
   "id": "3c4473ad-5cb3-4ec2-abb1-ded93f07918b",
   "metadata": {},
   "outputs": [],
   "source": [
    "df3 = df3.where(\"total_sqft<6000\")"
   ]
  },
  {
   "cell_type": "code",
   "execution_count": 130,
   "id": "e2531512-8844-4532-8efc-29917608584a",
   "metadata": {},
   "outputs": [
    {
     "name": "stdout",
     "output_type": "stream",
     "text": [
      "+---+-----+-------------+----------+\n",
      "|BHK|price|per_month_emi|total_sqft|\n",
      "+---+-----+-------------+----------+\n",
      "|3.0| 75.0|        39.72|    1550.0|\n",
      "|2.0| 41.0|        21.71|    1000.0|\n",
      "|2.0|53.35|        28.25|     970.0|\n",
      "+---+-----+-------------+----------+\n",
      "only showing top 3 rows\n",
      "\n"
     ]
    }
   ],
   "source": [
    "df3.show(3)"
   ]
  },
  {
   "cell_type": "code",
   "execution_count": 131,
   "id": "dcdc32d8-93d6-4445-9573-a4130b9218cc",
   "metadata": {},
   "outputs": [],
   "source": [
    "assembler = VectorAssembler(inputCols=['BHK','price','per_month_emi','total_sqft'], outputCol='features')"
   ]
  },
  {
   "cell_type": "code",
   "execution_count": 132,
   "id": "eb876f20-6761-48f6-9c53-d4e9a35295ba",
   "metadata": {},
   "outputs": [],
   "source": [
    "output = assembler.transform(df3)"
   ]
  },
  {
   "cell_type": "code",
   "execution_count": 133,
   "id": "06b3b0af-737a-4c62-aaa7-509053be8070",
   "metadata": {},
   "outputs": [
    {
     "name": "stdout",
     "output_type": "stream",
     "text": [
      "root\n",
      " |-- BHK: double (nullable = true)\n",
      " |-- price: double (nullable = true)\n",
      " |-- per_month_emi: double (nullable = true)\n",
      " |-- total_sqft: double (nullable = true)\n",
      " |-- features: vector (nullable = true)\n",
      "\n"
     ]
    }
   ],
   "source": [
    "output.printSchema()"
   ]
  },
  {
   "cell_type": "code",
   "execution_count": 134,
   "id": "72f423d1-d65e-42f4-b844-ede42b4c5e68",
   "metadata": {},
   "outputs": [
    {
     "name": "stdout",
     "output_type": "stream",
     "text": [
      "+---+-----+-------------+----------+--------------------+\n",
      "|BHK|price|per_month_emi|total_sqft|            features|\n",
      "+---+-----+-------------+----------+--------------------+\n",
      "|3.0| 75.0|        39.72|    1550.0|[3.0,75.0,39.72,1...|\n",
      "|2.0| 41.0|        21.71|    1000.0|[2.0,41.0,21.71,1...|\n",
      "|2.0|53.35|        28.25|     970.0|[2.0,53.35,28.25,...|\n",
      "+---+-----+-------------+----------+--------------------+\n",
      "only showing top 3 rows\n",
      "\n"
     ]
    }
   ],
   "source": [
    "output.show(3)"
   ]
  },
  {
   "cell_type": "markdown",
   "id": "07fc1662-f86e-48ad-ab59-c9942210a06a",
   "metadata": {},
   "source": [
    "## Scaling"
   ]
  },
  {
   "cell_type": "code",
   "execution_count": 135,
   "id": "90647d8a-df98-4412-a253-922e76b1d6f5",
   "metadata": {},
   "outputs": [],
   "source": [
    "from pyspark.ml.feature import StandardScaler"
   ]
  },
  {
   "cell_type": "code",
   "execution_count": 136,
   "id": "f06b4ac1-0ea4-42af-84f1-6a909b1fce19",
   "metadata": {},
   "outputs": [],
   "source": [
    "scaler = StandardScaler(inputCol='features',outputCol='scaled', withStd=True,withMean=False)"
   ]
  },
  {
   "cell_type": "code",
   "execution_count": 137,
   "id": "7c89a7e9-426f-4372-9f12-f51ce64aef2d",
   "metadata": {},
   "outputs": [],
   "source": [
    "model = scaler.fit(output)"
   ]
  },
  {
   "cell_type": "code",
   "execution_count": 138,
   "id": "b24e820a-6049-479c-8c5f-00ef095064cc",
   "metadata": {},
   "outputs": [],
   "source": [
    "output = model.transform(output)"
   ]
  },
  {
   "cell_type": "code",
   "execution_count": 139,
   "id": "dcc396c1-174c-49b9-b8fd-03e2dfb59b4a",
   "metadata": {},
   "outputs": [
    {
     "name": "stdout",
     "output_type": "stream",
     "text": [
      "+---+-----+-------------+----------+--------------------+--------------------+\n",
      "|BHK|price|per_month_emi|total_sqft|            features|              scaled|\n",
      "+---+-----+-------------+----------+--------------------+--------------------+\n",
      "|3.0| 75.0|        39.72|    1550.0|[3.0,75.0,39.72,1...|[3.27833242443844...|\n",
      "|2.0| 41.0|        21.71|    1000.0|[2.0,41.0,21.71,1...|[2.18555494962562...|\n",
      "|2.0|53.35|        28.25|     970.0|[2.0,53.35,28.25,...|[2.18555494962562...|\n",
      "|2.0| 55.0|        29.13|    1000.0|[2.0,55.0,29.13,1...|[2.18555494962562...|\n",
      "|2.0| 27.0|         14.3|     853.0|[2.0,27.0,14.3,85...|[2.18555494962562...|\n",
      "|2.0| 42.0|        22.24|    1050.0|[2.0,42.0,22.24,1...|[2.18555494962562...|\n",
      "|2.0| 35.5|         18.8|    1035.0|[2.0,35.5,18.8,10...|[2.18555494962562...|\n",
      "|3.0| 48.0|        25.42|    1375.0|[3.0,48.0,25.42,1...|[3.27833242443844...|\n",
      "|2.0| 32.0|        16.95|     850.0|[2.0,32.0,16.95,8...|[2.18555494962562...|\n",
      "|2.0| 32.0|        16.95|    1020.0|[2.0,32.0,16.95,1...|[2.18555494962562...|\n",
      "+---+-----+-------------+----------+--------------------+--------------------+\n",
      "only showing top 10 rows\n",
      "\n"
     ]
    }
   ],
   "source": [
    "output.show(10)"
   ]
  },
  {
   "cell_type": "code",
   "execution_count": 140,
   "id": "0b2b5bb1-9a26-4e56-9d69-c15b0ae3222a",
   "metadata": {},
   "outputs": [
    {
     "name": "stdout",
     "output_type": "stream",
     "text": [
      "+-----------------------------------------------------------------------------+\n",
      "|scaled                                                                       |\n",
      "+-----------------------------------------------------------------------------+\n",
      "|[3.2783324244384406,1.8884038895832995,2.924065209751943,2.8630451536125103] |\n",
      "|[2.1855549496256272,1.0323274596388705,1.5982239603150727,1.8471259055564582]|\n",
      "|[2.1855549496256272,1.3432846334569204,2.0796788060295164,1.7917121283897643]|\n",
      "|[2.1855549496256272,1.384829519027753,2.144461721049197,1.8471259055564582]  |\n",
      "|[2.1855549496256272,0.6798254002499878,1.0527223690698084,1.5755983974396588]|\n",
      "|[2.1855549496256272,1.0575061781666477,1.6372409432246529,1.9394822008342811]|\n",
      "|[2.1855549496256272,0.8938445077360951,1.3839986390568109,1.9117753122509342]|\n",
      "|[3.2783324244384406,1.2085784893333118,1.8713428406821349,2.53979812014013]  |\n",
      "|[2.1855549496256272,0.8057189928888745,1.2478072836177099,1.5700570197229895]|\n",
      "|[2.1855549496256272,0.8057189928888745,1.2478072836177099,1.8840684236675873]|\n",
      "+-----------------------------------------------------------------------------+\n",
      "only showing top 10 rows\n",
      "\n"
     ]
    }
   ],
   "source": [
    "output.select('scaled').show(10, False)"
   ]
  },
  {
   "cell_type": "markdown",
   "id": "4b3a0975-82f4-4e2a-a2d8-0609c3fb295e",
   "metadata": {},
   "source": [
    "## Performing K-means clustering with 3 cluster"
   ]
  },
  {
   "cell_type": "code",
   "execution_count": 141,
   "id": "2bd93d26-4629-42dc-98ae-bc8e95bf51c4",
   "metadata": {},
   "outputs": [],
   "source": [
    "from pyspark.ml.clustering import KMeans\n",
    "from pyspark.ml.evaluation import ClusteringEvaluator"
   ]
  },
  {
   "cell_type": "code",
   "execution_count": 142,
   "id": "ea989673-43d7-4c86-ab04-22d490348f8c",
   "metadata": {},
   "outputs": [],
   "source": [
    "kmeans = KMeans(featuresCol='scaled', k=3)"
   ]
  },
  {
   "cell_type": "code",
   "execution_count": 143,
   "id": "e3e838ae-a01a-49d5-920d-d259a7fcfd9c",
   "metadata": {},
   "outputs": [],
   "source": [
    "model = kmeans.fit(output)"
   ]
  },
  {
   "cell_type": "code",
   "execution_count": 144,
   "id": "3abadfff-bcc4-4b76-af06-3e8693aa95e4",
   "metadata": {},
   "outputs": [],
   "source": [
    "predictions_3 = model.transform(output)"
   ]
  },
  {
   "cell_type": "code",
   "execution_count": 145,
   "id": "c063c2be-afe2-4b72-a920-c826c3e24b87",
   "metadata": {},
   "outputs": [
    {
     "name": "stdout",
     "output_type": "stream",
     "text": [
      "+---+-----+-------------+----------+--------------------+--------------------+----------+\n",
      "|BHK|price|per_month_emi|total_sqft|            features|              scaled|prediction|\n",
      "+---+-----+-------------+----------+--------------------+--------------------+----------+\n",
      "|3.0| 75.0|        39.72|    1550.0|[3.0,75.0,39.72,1...|[3.27833242443844...|         1|\n",
      "|2.0| 41.0|        21.71|    1000.0|[2.0,41.0,21.71,1...|[2.18555494962562...|         0|\n",
      "|2.0|53.35|        28.25|     970.0|[2.0,53.35,28.25,...|[2.18555494962562...|         0|\n",
      "|2.0| 55.0|        29.13|    1000.0|[2.0,55.0,29.13,1...|[2.18555494962562...|         0|\n",
      "|2.0| 27.0|         14.3|     853.0|[2.0,27.0,14.3,85...|[2.18555494962562...|         0|\n",
      "|2.0| 42.0|        22.24|    1050.0|[2.0,42.0,22.24,1...|[2.18555494962562...|         0|\n",
      "|2.0| 35.5|         18.8|    1035.0|[2.0,35.5,18.8,10...|[2.18555494962562...|         0|\n",
      "|3.0| 48.0|        25.42|    1375.0|[3.0,48.0,25.42,1...|[3.27833242443844...|         1|\n",
      "|2.0| 32.0|        16.95|     850.0|[2.0,32.0,16.95,8...|[2.18555494962562...|         0|\n",
      "|2.0| 32.0|        16.95|    1020.0|[2.0,32.0,16.95,1...|[2.18555494962562...|         0|\n",
      "+---+-----+-------------+----------+--------------------+--------------------+----------+\n",
      "only showing top 10 rows\n",
      "\n"
     ]
    }
   ],
   "source": [
    "predictions_3.show(10)"
   ]
  },
  {
   "cell_type": "code",
   "execution_count": 146,
   "id": "e3036af5-acbc-412a-8dba-0dc426dc4a08",
   "metadata": {},
   "outputs": [],
   "source": [
    "tester = ClusteringEvaluator()"
   ]
  },
  {
   "cell_type": "code",
   "execution_count": 147,
   "id": "5f58adc8-81ba-4738-9889-fec9c3d4f2cb",
   "metadata": {},
   "outputs": [],
   "source": [
    "silhouette = tester.evaluate(predictions_3)"
   ]
  },
  {
   "cell_type": "code",
   "execution_count": 148,
   "id": "8f629620-9ef0-48d5-9eaf-966b1c168bbe",
   "metadata": {},
   "outputs": [
    {
     "name": "stdout",
     "output_type": "stream",
     "text": [
      "0.6252080690780363\n"
     ]
    }
   ],
   "source": [
    "print(silhouette)"
   ]
  },
  {
   "cell_type": "code",
   "execution_count": 149,
   "id": "a6a64fe4-8052-4c35-ad76-c34de3709e55",
   "metadata": {},
   "outputs": [],
   "source": [
    "centers = model.clusterCenters()"
   ]
  },
  {
   "cell_type": "code",
   "execution_count": 150,
   "id": "b1b058e1-c426-4004-b552-dd51de968d36",
   "metadata": {},
   "outputs": [
    {
     "name": "stdout",
     "output_type": "stream",
     "text": [
      "*** Cluster centers ***\n",
      "[1.87355567 0.73861699 1.21658287 1.61093177]\n",
      "[3.42627933 1.81358618 2.86436784 3.07381612]\n",
      "[4.61698483 7.8179921  0.11353574 5.48079199]\n"
     ]
    }
   ],
   "source": [
    "print('*** Cluster centers ***')\n",
    "for center in centers: print(center)"
   ]
  },
  {
   "cell_type": "code",
   "execution_count": 151,
   "id": "ba1f3aa2-ba87-496d-b4ae-13ad415812af",
   "metadata": {},
   "outputs": [
    {
     "name": "stdout",
     "output_type": "stream",
     "text": [
      "Num of clusters: 4 -- Silhouette with euclidean distance: 0.5991722847638973\n",
      "Num of clusters: 5 -- Silhouette with euclidean distance: 0.36200952170911493\n",
      "Num of clusters: 6 -- Silhouette with euclidean distance: 0.41320249981892915\n",
      "Num of clusters: 7 -- Silhouette with euclidean distance: 0.35445302388614497\n",
      "Num of clusters: 8 -- Silhouette with euclidean distance: 0.2377083367943641\n",
      "Num of clusters: 9 -- Silhouette with euclidean distance: 0.1747746845153798\n"
     ]
    }
   ],
   "source": [
    "summary = [ silhouette ] # store the silhouette with n=3\n",
    "\n",
    "for n in range(4,10):\n",
    "    kmeans = KMeans(featuresCol='scaled', k=n)\n",
    "    model = kmeans.fit(output)\n",
    "    predictions = model.transform(output)\n",
    "    silhouette = tester.evaluate(predictions)\n",
    "    summary += [ silhouette ]\n",
    "    print(f\"Num of clusters: {n} -- Silhouette with euclidean distance: {silhouette}\")"
   ]
  },
  {
   "cell_type": "code",
   "execution_count": 152,
   "id": "6f0c8512-1dd4-4e60-80fb-26c2a43f0dc5",
   "metadata": {},
   "outputs": [
    {
     "data": {
      "text/plain": [
       "[<matplotlib.lines.Line2D at 0x1160971c0>]"
      ]
     },
     "execution_count": 152,
     "metadata": {},
     "output_type": "execute_result"
    },
    {
     "data": {
      "image/png": "[encoded data removed]",
      "text/plain": [
       "<Figure size 432x288 with 1 Axes>"
      ]
     },
     "metadata": {
      "needs_background": "light"
     },
     "output_type": "display_data"
    }
   ],
   "source": [
    "plt.plot(range(3,9+1),summary)"
   ]
  },
  {
   "cell_type": "code",
   "execution_count": 153,
   "id": "aa3c4a54-074c-47a4-b78b-bad03ebc0ef9",
   "metadata": {},
   "outputs": [
    {
     "data": {
      "text/html": [
       "<div>\n",
       "<style scoped>\n",
       "    .dataframe tbody tr th:only-of-type {\n",
       "        vertical-align: middle;\n",
       "    }\n",
       "\n",
       "    .dataframe tbody tr th {\n",
       "        vertical-align: top;\n",
       "    }\n",
       "\n",
       "    .dataframe thead th {\n",
       "        text-align: right;\n",
       "    }\n",
       "</style>\n",
       "<table border=\"1\" class=\"dataframe\">\n",
       "  <thead>\n",
       "    <tr style=\"text-align: right;\">\n",
       "      <th></th>\n",
       "      <th>BHK</th>\n",
       "      <th>price</th>\n",
       "      <th>per_month_emi</th>\n",
       "      <th>total_sqft</th>\n",
       "      <th>features</th>\n",
       "      <th>scaled</th>\n",
       "      <th>prediction</th>\n",
       "    </tr>\n",
       "  </thead>\n",
       "  <tbody>\n",
       "    <tr>\n",
       "      <th>0</th>\n",
       "      <td>3.0</td>\n",
       "      <td>75.00</td>\n",
       "      <td>39.72</td>\n",
       "      <td>1550.0</td>\n",
       "      <td>[3.0, 75.0, 39.72, 1550.0]</td>\n",
       "      <td>[3.2783324244384406, 1.8884038895832995, 2.924...</td>\n",
       "      <td>1</td>\n",
       "    </tr>\n",
       "    <tr>\n",
       "      <th>1</th>\n",
       "      <td>2.0</td>\n",
       "      <td>41.00</td>\n",
       "      <td>21.71</td>\n",
       "      <td>1000.0</td>\n",
       "      <td>[2.0, 41.0, 21.71, 1000.0]</td>\n",
       "      <td>[2.1855549496256272, 1.0323274596388705, 1.598...</td>\n",
       "      <td>0</td>\n",
       "    </tr>\n",
       "    <tr>\n",
       "      <th>2</th>\n",
       "      <td>2.0</td>\n",
       "      <td>53.35</td>\n",
       "      <td>28.25</td>\n",
       "      <td>970.0</td>\n",
       "      <td>[2.0, 53.35, 28.25, 970.0]</td>\n",
       "      <td>[2.1855549496256272, 1.3432846334569204, 2.079...</td>\n",
       "      <td>0</td>\n",
       "    </tr>\n",
       "    <tr>\n",
       "      <th>3</th>\n",
       "      <td>2.0</td>\n",
       "      <td>55.00</td>\n",
       "      <td>29.13</td>\n",
       "      <td>1000.0</td>\n",
       "      <td>[2.0, 55.0, 29.13, 1000.0]</td>\n",
       "      <td>[2.1855549496256272, 1.384829519027753, 2.1444...</td>\n",
       "      <td>0</td>\n",
       "    </tr>\n",
       "    <tr>\n",
       "      <th>4</th>\n",
       "      <td>2.0</td>\n",
       "      <td>27.00</td>\n",
       "      <td>14.30</td>\n",
       "      <td>853.0</td>\n",
       "      <td>[2.0, 27.0, 14.3, 853.0]</td>\n",
       "      <td>[2.1855549496256272, 0.6798254002499878, 1.052...</td>\n",
       "      <td>0</td>\n",
       "    </tr>\n",
       "  </tbody>\n",
       "</table>\n",
       "</div>"
      ],
      "text/plain": [
       "   BHK  price  per_month_emi  total_sqft                    features  \\\n",
       "0  3.0  75.00          39.72      1550.0  [3.0, 75.0, 39.72, 1550.0]   \n",
       "1  2.0  41.00          21.71      1000.0  [2.0, 41.0, 21.71, 1000.0]   \n",
       "2  2.0  53.35          28.25       970.0  [2.0, 53.35, 28.25, 970.0]   \n",
       "3  2.0  55.00          29.13      1000.0  [2.0, 55.0, 29.13, 1000.0]   \n",
       "4  2.0  27.00          14.30       853.0    [2.0, 27.0, 14.3, 853.0]   \n",
       "\n",
       "                                              scaled  prediction  \n",
       "0  [3.2783324244384406, 1.8884038895832995, 2.924...           1  \n",
       "1  [2.1855549496256272, 1.0323274596388705, 1.598...           0  \n",
       "2  [2.1855549496256272, 1.3432846334569204, 2.079...           0  \n",
       "3  [2.1855549496256272, 1.384829519027753, 2.1444...           0  \n",
       "4  [2.1855549496256272, 0.6798254002499878, 1.052...           0  "
      ]
     },
     "execution_count": 153,
     "metadata": {},
     "output_type": "execute_result"
    }
   ],
   "source": [
    "pd_predictions = predictions_3.toPandas()\n",
    "pd_predictions.head()"
   ]
  },
  {
   "cell_type": "code",
   "execution_count": 163,
   "id": "f596fa4c-a71f-4af7-9ec6-f519f4c9e1b3",
   "metadata": {},
   "outputs": [
    {
     "name": "stderr",
     "output_type": "stream",
     "text": [
      "/var/folders/v3/1bsc9h616vj6zjgdf5wv5v3m0000gn/T/ipykernel_4534/1454013525.py:1: MatplotlibDeprecationWarning: Calling gca() with keyword arguments was deprecated in Matplotlib 3.4. Starting two minor releases later, gca() will take no keyword arguments. The gca() function should only be used to get the current axes, or if no axes exist, create new axes with default keyword arguments. To create a new axes with non-default arguments, use plt.axes() or plt.subplot().\n",
      "  threedee = plt.figure(figsize=(12,10)).gca(projection='3d')\n"
     ]
    },
    {
     "data": {
      "image/png": "[encoded data removed]",
      "text/plain": [
       "<Figure size 864x720 with 1 Axes>"
      ]
     },
     "metadata": {
      "needs_background": "light"
     },
     "output_type": "display_data"
    }
   ],
   "source": [
    "threedee = plt.figure(figsize=(12,10)).gca(projection='3d')\n",
    "threedee.scatter(pd_predictions.total_sqft, pd_predictions.price, pd_predictions.BHK, c=pd_predictions.prediction)\n",
    "threedee.set_xlabel('total_sqft')\n",
    "threedee.set_ylabel('price')\n",
    "threedee.set_zlabel('BHK')\n",
    "plt.show()"
   ]
  },
  {
   "cell_type": "markdown",
   "id": "d58b7f24-ba3e-4826-97e6-36fd1df381f9",
   "metadata": {},
   "source": [
    "### From this clustering image is it clear how we divide the df in 3 main cluster representing in particular the houses low, medium and high level"
   ]
  },
  {
   "cell_type": "markdown",
   "id": "c637269b-faff-40b7-b5b3-3bf9d56002b3",
   "metadata": {
    "tags": []
   },
   "source": [
    "# Random forest - house_condition bad=0 good=1"
   ]
  },
  {
   "cell_type": "code",
   "execution_count": 164,
   "id": "b81d4d87-b077-453d-a68f-99d85af683b9",
   "metadata": {},
   "outputs": [],
   "source": [
    "df4 = df2.alias('df4')"
   ]
  },
  {
   "cell_type": "code",
   "execution_count": 165,
   "id": "892e5c90-8e9f-4cd8-9790-b19976238ef9",
   "metadata": {},
   "outputs": [],
   "source": [
    "df4 = df4.drop('housetype','cordinates')"
   ]
  },
  {
   "cell_type": "code",
   "execution_count": 166,
   "id": "067e6bf4-6061-4486-beaf-e34d50a9424e",
   "metadata": {},
   "outputs": [
    {
     "name": "stdout",
     "output_type": "stream",
     "text": [
      "root\n",
      " |-- house_condition: string (nullable = true)\n",
      " |-- BHK: double (nullable = true)\n",
      " |-- price: double (nullable = true)\n",
      " |-- per_month_emi: double (nullable = true)\n",
      " |-- total_sqft: double (nullable = true)\n",
      "\n"
     ]
    }
   ],
   "source": [
    "df4.printSchema()"
   ]
  },
  {
   "cell_type": "code",
   "execution_count": 167,
   "id": "784e1271-6c92-40cf-8e37-bd52f8933456",
   "metadata": {},
   "outputs": [
    {
     "name": "stdout",
     "output_type": "stream",
     "text": [
      "+---------------+---+-----+-------------+----------+\n",
      "|house_condition|BHK|price|per_month_emi|total_sqft|\n",
      "+---------------+---+-----+-------------+----------+\n",
      "|            old|3.0| 75.0|        39.72|    1550.0|\n",
      "|            old|2.0| 41.0|        21.71|    1000.0|\n",
      "|            old|2.0|53.35|        28.25|     970.0|\n",
      "+---------------+---+-----+-------------+----------+\n",
      "only showing top 3 rows\n",
      "\n"
     ]
    }
   ],
   "source": [
    "df4.show(3)"
   ]
  },
  {
   "cell_type": "markdown",
   "id": "1401af84-f6ca-415d-b63b-fc195839a3cb",
   "metadata": {},
   "source": [
    "## encoding"
   ]
  },
  {
   "cell_type": "code",
   "execution_count": 168,
   "id": "a08c69a0-48db-4a22-80ee-7828f94bcb34",
   "metadata": {},
   "outputs": [],
   "source": [
    "indexed = StringIndexer(inputCol=\"house_condition\", outputCol=\"condition\").fit(df4).transform(df4)"
   ]
  },
  {
   "cell_type": "code",
   "execution_count": 169,
   "id": "b7435628-b310-4592-a973-abb60b8a03ec",
   "metadata": {},
   "outputs": [],
   "source": [
    "indexed = indexed.drop('house_condition')"
   ]
  },
  {
   "cell_type": "code",
   "execution_count": 170,
   "id": "136545e8-acab-493d-9575-e34095751cac",
   "metadata": {},
   "outputs": [
    {
     "data": {
      "text/plain": [
       "[Row(BHK=3.0, price=57.51, per_month_emi=30.45, total_sqft=1475.0, condition=0.0),\n",
       " Row(BHK=1.0, price=15.0, per_month_emi=7.94, total_sqft=525.0, condition=0.0),\n",
       " Row(BHK=2.0, price=41.0, per_month_emi=21.71, total_sqft=1000.0, condition=0.0)]"
      ]
     },
     "execution_count": 170,
     "metadata": {},
     "output_type": "execute_result"
    }
   ],
   "source": [
    "indexed.tail(3)"
   ]
  },
  {
   "cell_type": "code",
   "execution_count": 171,
   "id": "6ffa33b1-383a-476e-a6b7-605503f1ca3e",
   "metadata": {},
   "outputs": [],
   "source": [
    "assembler = VectorAssembler(inputCols = indexed.columns[:-1], outputCol = \"features\")"
   ]
  },
  {
   "cell_type": "code",
   "execution_count": 172,
   "id": "3e904fcf-fab7-41a3-8096-299128d475d8",
   "metadata": {},
   "outputs": [],
   "source": [
    "assembled = assembler.transform(indexed)"
   ]
  },
  {
   "cell_type": "code",
   "execution_count": 173,
   "id": "31702810-6835-49e0-9881-a985f99f1181",
   "metadata": {},
   "outputs": [
    {
     "name": "stdout",
     "output_type": "stream",
     "text": [
      "+---+-----+-------------+----------+---------+--------------------+\n",
      "|BHK|price|per_month_emi|total_sqft|condition|            features|\n",
      "+---+-----+-------------+----------+---------+--------------------+\n",
      "|3.0| 75.0|        39.72|    1550.0|      0.0|[3.0,75.0,39.72,1...|\n",
      "|2.0| 41.0|        21.71|    1000.0|      0.0|[2.0,41.0,21.71,1...|\n",
      "|2.0|53.35|        28.25|     970.0|      0.0|[2.0,53.35,28.25,...|\n",
      "+---+-----+-------------+----------+---------+--------------------+\n",
      "only showing top 3 rows\n",
      "\n"
     ]
    }
   ],
   "source": [
    "assembled.show(3)"
   ]
  },
  {
   "cell_type": "code",
   "execution_count": 174,
   "id": "8e19c2de-002e-47a5-bb59-35ff78a325f3",
   "metadata": {},
   "outputs": [],
   "source": [
    "selected = assembled.select('features','condition')"
   ]
  },
  {
   "cell_type": "markdown",
   "id": "a53ac01e-056f-41aa-81eb-adfabe149267",
   "metadata": {},
   "source": [
    "## classifing RF"
   ]
  },
  {
   "cell_type": "code",
   "execution_count": 175,
   "id": "3205466d-c7ae-412c-a8bf-094cbd232931",
   "metadata": {},
   "outputs": [],
   "source": [
    "training_set, test_set = selected.randomSplit([0.8,0.2], seed=0)"
   ]
  },
  {
   "cell_type": "code",
   "execution_count": 176,
   "id": "f08d8016-5901-4177-ab91-ca11c0e192cd",
   "metadata": {},
   "outputs": [],
   "source": [
    "from pyspark.ml.classification import RandomForestClassifier as RF"
   ]
  },
  {
   "cell_type": "code",
   "execution_count": 177,
   "id": "104af51b-11e2-41f5-adff-b57e516d268c",
   "metadata": {},
   "outputs": [],
   "source": [
    "classifier = RF(maxDepth=5,numTrees=20,labelCol=\"condition\")"
   ]
  },
  {
   "cell_type": "code",
   "execution_count": 178,
   "id": "20302339-229c-4909-9b57-612de956ea63",
   "metadata": {},
   "outputs": [],
   "source": [
    "model = classifier.fit(training_set)"
   ]
  },
  {
   "cell_type": "code",
   "execution_count": 179,
   "id": "c20757f8-a0b6-437c-9af3-61fac4dbcac3",
   "metadata": {},
   "outputs": [
    {
     "data": {
      "text/plain": [
       "SparseVector(4, {0: 0.0744, 1: 0.5634, 2: 0.2218, 3: 0.1404})"
      ]
     },
     "execution_count": 179,
     "metadata": {},
     "output_type": "execute_result"
    }
   ],
   "source": [
    "model.featureImportances"
   ]
  },
  {
   "cell_type": "code",
   "execution_count": 180,
   "id": "f9d2b9e5-a39e-4ae8-95c1-a76b9be16fd3",
   "metadata": {},
   "outputs": [],
   "source": [
    "predictions = model.transform(test_set)"
   ]
  },
  {
   "cell_type": "code",
   "execution_count": 181,
   "id": "013f0258-1980-4d20-82d7-616bd7ef7496",
   "metadata": {},
   "outputs": [
    {
     "name": "stdout",
     "output_type": "stream",
     "text": [
      "+--------------------+---------+--------------------+--------------------+----------+\n",
      "|            features|condition|       rawPrediction|         probability|prediction|\n",
      "+--------------------+---------+--------------------+--------------------+----------+\n",
      "|[1.0,7.94,7.94,65...|      0.0|[18.1055053172690...|[0.90527526586345...|       0.0|\n",
      "|[1.0,7.94,7.94,65...|      0.0|[18.1055053172690...|[0.90527526586345...|       0.0|\n",
      "|[1.0,7.94,7.94,65...|      0.0|[18.1055053172690...|[0.90527526586345...|       0.0|\n",
      "|[1.0,7.94,7.94,69...|      0.0|[18.1055053172690...|[0.90527526586345...|       0.0|\n",
      "|[1.0,7.94,7.94,69...|      0.0|[18.1055053172690...|[0.90527526586345...|       0.0|\n",
      "|[1.0,8.47,8.47,53...|      0.0|[16.5328289941866...|[0.82664144970933...|       0.0|\n",
      "|[1.0,8.47,8.47,57...|      0.0|[17.0188607402184...|[0.85094303701092...|       0.0|\n",
      "|[1.0,8.47,8.47,60...|      0.0|[17.1912856156804...|[0.85956428078402...|       0.0|\n",
      "|[1.0,9.38,9.38,67...|      0.0|[18.1055053172690...|[0.90527526586345...|       0.0|\n",
      "|[1.0,9.53,9.53,59...|      0.0|[17.1496572300056...|[0.85748286150028...|       0.0|\n",
      "|[1.0,9.96,9.96,75...|      0.0|[18.1117844325388...|[0.90558922162694...|       0.0|\n",
      "|[1.0,10.0,5.3,370.0]|      1.0|[14.2454174259021...|[0.71227087129510...|       0.0|\n",
      "|[1.0,10.0,5.3,400.0]|      0.0|[14.2454174259021...|[0.71227087129510...|       0.0|\n",
      "|[1.0,10.06,10.06,...|      0.0|[17.1496572300056...|[0.85748286150028...|       0.0|\n",
      "|[1.0,10.07,10.07,...|      0.0|[18.3566823917225...|[0.91783411958612...|       0.0|\n",
      "+--------------------+---------+--------------------+--------------------+----------+\n",
      "only showing top 15 rows\n",
      "\n"
     ]
    }
   ],
   "source": [
    "predictions.show(15)"
   ]
  },
  {
   "cell_type": "markdown",
   "id": "16ac9435-02c0-4d15-bdc5-92f8593bc42a",
   "metadata": {},
   "source": [
    "## performance"
   ]
  },
  {
   "cell_type": "code",
   "execution_count": 182,
   "id": "cf0d4629-8f23-4170-b3d7-3f291ec80ee2",
   "metadata": {},
   "outputs": [],
   "source": [
    "from pyspark.ml.evaluation import MulticlassClassificationEvaluator as Tester"
   ]
  },
  {
   "cell_type": "code",
   "execution_count": 183,
   "id": "75caf2fb-5a92-4832-98c4-1de3222a7cf6",
   "metadata": {},
   "outputs": [],
   "source": [
    "tester = Tester(predictionCol='prediction', labelCol='condition')"
   ]
  },
  {
   "cell_type": "code",
   "execution_count": 184,
   "id": "aee2f887-29e0-457e-9ca9-1abf78d20da9",
   "metadata": {},
   "outputs": [],
   "source": [
    "accuracy = tester.evaluate(predictions)"
   ]
  },
  {
   "cell_type": "code",
   "execution_count": 185,
   "id": "8adc46a5-83d0-4976-80a8-5f86c7116518",
   "metadata": {},
   "outputs": [
    {
     "name": "stdout",
     "output_type": "stream",
     "text": [
      "Final accuracy is: 0.6114\n"
     ]
    }
   ],
   "source": [
    "print(f\"Final accuracy is: {accuracy:5.4f}\")"
   ]
  },
  {
   "cell_type": "markdown",
   "id": "7dc1f2d9-8487-4074-9340-ad7881e0a746",
   "metadata": {
    "tags": []
   },
   "source": [
    "# Logistic regression"
   ]
  },
  {
   "cell_type": "code",
   "execution_count": 186,
   "id": "11e21ebe-2136-49f9-a3e1-8a4c81b3d8bf",
   "metadata": {},
   "outputs": [
    {
     "name": "stdout",
     "output_type": "stream",
     "text": [
      "+---+-----+-------------+----------+---------+--------------------+\n",
      "|BHK|price|per_month_emi|total_sqft|condition|            features|\n",
      "+---+-----+-------------+----------+---------+--------------------+\n",
      "|3.0| 75.0|        39.72|    1550.0|      0.0|[3.0,75.0,39.72,1...|\n",
      "|2.0| 41.0|        21.71|    1000.0|      0.0|[2.0,41.0,21.71,1...|\n",
      "|2.0|53.35|        28.25|     970.0|      0.0|[2.0,53.35,28.25,...|\n",
      "+---+-----+-------------+----------+---------+--------------------+\n",
      "only showing top 3 rows\n",
      "\n"
     ]
    }
   ],
   "source": [
    "assembled.show(3)"
   ]
  },
  {
   "cell_type": "code",
   "execution_count": 187,
   "id": "3707dc88-00e0-41bf-aec7-03e1fd9bf394",
   "metadata": {},
   "outputs": [],
   "source": [
    "from pyspark.ml.feature import MinMaxScaler"
   ]
  },
  {
   "cell_type": "code",
   "execution_count": 188,
   "id": "1a8fdba0-5046-41e9-ba89-078050b82a72",
   "metadata": {},
   "outputs": [],
   "source": [
    "scaler = MinMaxScaler(inputCol=\"features\", outputCol=\"scaled_features\")"
   ]
  },
  {
   "cell_type": "code",
   "execution_count": 189,
   "id": "0f086581-42dd-4751-848c-f77ffe81aee0",
   "metadata": {},
   "outputs": [],
   "source": [
    "model = scaler.fit(assembled)"
   ]
  },
  {
   "cell_type": "code",
   "execution_count": 190,
   "id": "67a6230f-0668-49bc-892b-6aa600d24144",
   "metadata": {},
   "outputs": [],
   "source": [
    "scaled = model.transform(assembled).select('scaled_features','condition')"
   ]
  },
  {
   "cell_type": "code",
   "execution_count": 191,
   "id": "4112d1f2-5bee-4225-9c83-454bc8a01f7c",
   "metadata": {},
   "outputs": [],
   "source": [
    "scaled = scaled.withColumnRenamed('scaled_features','features')"
   ]
  },
  {
   "cell_type": "code",
   "execution_count": 192,
   "id": "a64a9a6c-481d-4aa9-b903-05d413cc035b",
   "metadata": {},
   "outputs": [
    {
     "name": "stdout",
     "output_type": "stream",
     "text": [
      "+--------------------+---------+\n",
      "|            features|condition|\n",
      "+--------------------+---------+\n",
      "|[0.22222222222222...|      0.0|\n",
      "|[0.11111111111111...|      0.0|\n",
      "+--------------------+---------+\n",
      "only showing top 2 rows\n",
      "\n"
     ]
    }
   ],
   "source": [
    "scaled.show(2)"
   ]
  },
  {
   "cell_type": "code",
   "execution_count": 193,
   "id": "70952dc2-b43b-44f6-bfb1-15a6f44928da",
   "metadata": {},
   "outputs": [],
   "source": [
    "training_set, test_set = scaled.randomSplit([0.7,0.3], seed=0)"
   ]
  },
  {
   "cell_type": "code",
   "execution_count": 194,
   "id": "754353f4-e104-49b8-90cb-f44dcc6a862b",
   "metadata": {},
   "outputs": [],
   "source": [
    "from pyspark.ml.classification import LogisticRegression as LogisticRegressor"
   ]
  },
  {
   "cell_type": "code",
   "execution_count": 195,
   "id": "162b5750-8dfb-4480-ad47-f588ad8f7932",
   "metadata": {},
   "outputs": [],
   "source": [
    "regressor = LogisticRegressor(featuresCol=\"features\",labelCol='condition')"
   ]
  },
  {
   "cell_type": "code",
   "execution_count": 196,
   "id": "f06e395b-afc3-4e43-bc63-8539fe64487d",
   "metadata": {},
   "outputs": [],
   "source": [
    "model = regressor.fit(training_set)"
   ]
  },
  {
   "cell_type": "code",
   "execution_count": 197,
   "id": "b285777d-0b19-4d91-8206-9d4910fe25e0",
   "metadata": {},
   "outputs": [],
   "source": [
    "from pyspark.ml.evaluation import BinaryClassificationEvaluator as BinaryEvaluator"
   ]
  },
  {
   "cell_type": "code",
   "execution_count": 198,
   "id": "7e22dfc1-d23a-4265-97d6-ea2e173f67ea",
   "metadata": {},
   "outputs": [],
   "source": [
    "performance = model.evaluate(test_set)"
   ]
  },
  {
   "cell_type": "code",
   "execution_count": 199,
   "id": "cbddfb1e-aa4f-4dfd-802d-3a27e5ae62f2",
   "metadata": {},
   "outputs": [
    {
     "name": "stderr",
     "output_type": "stream",
     "text": [
      "/usr/local/Cellar/apache-spark/3.2.1/libexec/python/pyspark/sql/context.py:125: FutureWarning: Deprecated in 3.0.0. Use SparkSession.builder.getOrCreate() instead.\n",
      "  warnings.warn(\n"
     ]
    },
    {
     "name": "stdout",
     "output_type": "stream",
     "text": [
      "+--------------------+---------+--------------------+--------------------+----------+\n",
      "|            features|condition|       rawPrediction|         probability|prediction|\n",
      "+--------------------+---------+--------------------+--------------------+----------+\n",
      "|[0.0,0.0061648745...|      0.0|[0.20395623238426...|[0.55081303609384...|       0.0|\n",
      "|[0.0,0.0070394265...|      0.0|[0.36310246399863...|[0.58979124509683...|       0.0|\n",
      "|[0.0,0.0074265232...|      0.0|[0.23578511124101...|[0.55867469623798...|       0.0|\n",
      "|[0.0,0.0077992831...|      0.0|[0.24101736867207...|[0.55996434853168...|       0.0|\n",
      "|[0.0,0.0077992831...|      0.0|[0.24101736867207...|[0.55996434853168...|       0.0|\n",
      "|[0.0,0.0077992831...|      0.0|[0.24101736867207...|[0.55996434853168...|       0.0|\n",
      "|[0.0,0.0077992831...|      0.0|[0.25436690308451...|[0.56325105110275...|       0.0|\n",
      "|[0.0,0.0077992831...|      0.0|[0.25436690308451...|[0.56325105110275...|       0.0|\n",
      "|[0.0,0.0081863799...|      0.0|[0.22116376793461...|[0.55506666654096...|       0.0|\n",
      "|[0.0,0.0085591397...|      0.0|[0.19936321818048...|[0.54967637826248...|       0.0|\n",
      "+--------------------+---------+--------------------+--------------------+----------+\n",
      "only showing top 10 rows\n",
      "\n"
     ]
    }
   ],
   "source": [
    "performance.predictions.show(10)"
   ]
  },
  {
   "cell_type": "code",
   "execution_count": 200,
   "id": "a2293bd4-3add-47c2-9578-dc97fed69189",
   "metadata": {},
   "outputs": [],
   "source": [
    "predictions = performance.predictions.select('condition','prediction')"
   ]
  },
  {
   "cell_type": "code",
   "execution_count": 201,
   "id": "d093287e-be19-4ea2-a5f3-ec70d414f322",
   "metadata": {},
   "outputs": [
    {
     "name": "stdout",
     "output_type": "stream",
     "text": [
      "+---------+----------+\n",
      "|condition|prediction|\n",
      "+---------+----------+\n",
      "|      0.0|       0.0|\n",
      "|      0.0|       0.0|\n",
      "|      0.0|       0.0|\n",
      "|      0.0|       0.0|\n",
      "|      0.0|       0.0|\n",
      "|      0.0|       0.0|\n",
      "|      0.0|       0.0|\n",
      "|      0.0|       0.0|\n",
      "|      0.0|       0.0|\n",
      "|      0.0|       0.0|\n",
      "+---------+----------+\n",
      "only showing top 10 rows\n",
      "\n"
     ]
    }
   ],
   "source": [
    "predictions.show(10)"
   ]
  },
  {
   "cell_type": "code",
   "execution_count": 202,
   "id": "5f49a70b-7dac-4c85-8e8c-34230f0c925b",
   "metadata": {},
   "outputs": [],
   "source": [
    "evaluator = BinaryEvaluator(rawPredictionCol='prediction', labelCol='condition')"
   ]
  },
  {
   "cell_type": "code",
   "execution_count": 203,
   "id": "24393e13-722d-4d96-b462-a388b9f0d0b0",
   "metadata": {},
   "outputs": [],
   "source": [
    "accuracy = evaluator.evaluate(predictions)"
   ]
  },
  {
   "cell_type": "code",
   "execution_count": 204,
   "id": "b975f198-8c3b-4286-a45d-53759d5a1f5a",
   "metadata": {},
   "outputs": [
    {
     "name": "stdout",
     "output_type": "stream",
     "text": [
      "Accuracy: 0.4914149190482856\n"
     ]
    }
   ],
   "source": [
    "print(f\"Accuracy: {accuracy}\")"
   ]
  },
  {
   "cell_type": "markdown",
   "id": "6371b579-98a2-427a-a266-665a146690e2",
   "metadata": {},
   "source": [
    "### Unfortunately the classification results are not very good with an accuracy around 0.5%"
   ]
  },
  {
   "cell_type": "markdown",
   "id": "fd60e0d3-7b28-47d6-b45b-8332d575bb84",
   "metadata": {},
   "source": [
    "## trying LR with pipeline "
   ]
  },
  {
   "cell_type": "code",
   "execution_count": 205,
   "id": "6b868c1a-e341-4973-902c-a3e9592c6599",
   "metadata": {},
   "outputs": [
    {
     "name": "stdout",
     "output_type": "stream",
     "text": [
      "+---------------+---+-----+-------------+----------+\n",
      "|house_condition|BHK|price|per_month_emi|total_sqft|\n",
      "+---------------+---+-----+-------------+----------+\n",
      "|            old|3.0| 75.0|        39.72|    1550.0|\n",
      "|            old|2.0| 41.0|        21.71|    1000.0|\n",
      "|            old|2.0|53.35|        28.25|     970.0|\n",
      "+---------------+---+-----+-------------+----------+\n",
      "only showing top 3 rows\n",
      "\n"
     ]
    }
   ],
   "source": [
    "df4.show(3)"
   ]
  },
  {
   "cell_type": "code",
   "execution_count": 206,
   "id": "3195c3af-5117-445a-81a4-7c58716f5694",
   "metadata": {},
   "outputs": [],
   "source": [
    "training_set, test_set = df4.randomSplit([0.7,0.3], seed=0)"
   ]
  },
  {
   "cell_type": "code",
   "execution_count": 207,
   "id": "f5a057cc-e548-43bf-a3ee-7085351cbc1e",
   "metadata": {},
   "outputs": [],
   "source": [
    "from pyspark.ml import Pipeline"
   ]
  },
  {
   "cell_type": "code",
   "execution_count": 208,
   "id": "2b9a5069-c2b8-483f-b146-b269e0bd1ef0",
   "metadata": {},
   "outputs": [],
   "source": [
    "stage1 = StringIndexer(inputCol=\"house_condition\", outputCol=\"house_condition_x\")"
   ]
  },
  {
   "cell_type": "code",
   "execution_count": 209,
   "id": "ec3e3fd5-55a0-48c3-ba91-7ade2faa1c2b",
   "metadata": {},
   "outputs": [],
   "source": [
    "stage2 = VectorAssembler(inputCols=['BHK', 'price', 'per_month_emi', 'total_sqft'],\n",
    "                          outputCol='features')"
   ]
  },
  {
   "cell_type": "code",
   "execution_count": 210,
   "id": "5031bf97-7511-4b65-9ac4-fe0133afc37e",
   "metadata": {},
   "outputs": [],
   "source": [
    "stage3 = LogisticRegressor(featuresCol='features',labelCol='house_condition_x')"
   ]
  },
  {
   "cell_type": "code",
   "execution_count": 211,
   "id": "8257096b-8cf6-4ffc-9a8e-61d1c10b9849",
   "metadata": {},
   "outputs": [],
   "source": [
    "pipeline = Pipeline(stages= [stage1, stage2, stage3])"
   ]
  },
  {
   "cell_type": "code",
   "execution_count": 212,
   "id": "dd508de7-72e2-4061-91c5-4440c0289764",
   "metadata": {},
   "outputs": [
    {
     "name": "stdout",
     "output_type": "stream",
     "text": [
      "+---------------+---+-----+-------------+----------+\n",
      "|house_condition|BHK|price|per_month_emi|total_sqft|\n",
      "+---------------+---+-----+-------------+----------+\n",
      "|            new|1.0| 10.0|          5.3|     430.0|\n",
      "|            new|1.0| 10.0|          5.3|     450.0|\n",
      "|            new|1.0| 10.5|         5.56|     560.0|\n",
      "+---------------+---+-----+-------------+----------+\n",
      "only showing top 3 rows\n",
      "\n"
     ]
    }
   ],
   "source": [
    "training_set.show(3)"
   ]
  },
  {
   "cell_type": "code",
   "execution_count": 213,
   "id": "39b82feb-1e60-4608-b771-5aa25b1ca340",
   "metadata": {},
   "outputs": [],
   "source": [
    "model = pipeline.fit(training_set)"
   ]
  },
  {
   "cell_type": "code",
   "execution_count": 214,
   "id": "912ad64c-6c8a-412a-a8a7-53519bbd6446",
   "metadata": {},
   "outputs": [],
   "source": [
    "final_train = model.transform(training_set)"
   ]
  },
  {
   "cell_type": "code",
   "execution_count": 215,
   "id": "91b3d2ce-9aa6-441e-a52c-0ad2ede19d36",
   "metadata": {},
   "outputs": [
    {
     "name": "stdout",
     "output_type": "stream",
     "text": [
      "+---------------+---+-----+-------------+----------+-----------------+--------------------+--------------------+--------------------+----------+\n",
      "|house_condition|BHK|price|per_month_emi|total_sqft|house_condition_x|            features|       rawPrediction|         probability|prediction|\n",
      "+---------------+---+-----+-------------+----------+-----------------+--------------------+--------------------+--------------------+----------+\n",
      "|            new|1.0| 10.0|          5.3|     430.0|              1.0|[1.0,10.0,5.3,430.0]|[0.13611297237908...|[0.53397580420688...|       0.0|\n",
      "|            new|1.0| 10.0|          5.3|     450.0|              1.0|[1.0,10.0,5.3,450.0]|[0.14149721930003...|[0.53531540230884...|       0.0|\n",
      "+---------------+---+-----+-------------+----------+-----------------+--------------------+--------------------+--------------------+----------+\n",
      "only showing top 2 rows\n",
      "\n"
     ]
    }
   ],
   "source": [
    "final_train.show(2)"
   ]
  },
  {
   "cell_type": "code",
   "execution_count": 222,
   "id": "50a3d168-c916-48bf-afc2-de60f1273fa8",
   "metadata": {},
   "outputs": [],
   "source": [
    "final_test = model.transform(test_set)"
   ]
  },
  {
   "cell_type": "code",
   "execution_count": 223,
   "id": "dd50228c-4ea9-4955-af01-f03ce91ee31c",
   "metadata": {},
   "outputs": [
    {
     "name": "stdout",
     "output_type": "stream",
     "text": [
      "+---------------+---+-----+-------------+----------+-----------------+--------------------+--------------------+--------------------+----------+\n",
      "|house_condition|BHK|price|per_month_emi|total_sqft|house_condition_x|            features|       rawPrediction|         probability|prediction|\n",
      "+---------------+---+-----+-------------+----------+-----------------+--------------------+--------------------+--------------------+----------+\n",
      "|            new|1.0| 10.0|          5.3|     370.0|              1.0|[1.0,10.0,5.3,370.0]|[0.11996023161622...|[0.52995414536264...|       0.0|\n",
      "|            new|1.0| 11.0|         5.83|     358.0|              1.0|[1.0,11.0,5.83,35...|[0.11273321799669...|[0.52815349443583...|       0.0|\n",
      "|            new|1.0| 12.0|         6.35|     250.0|              1.0|[1.0,12.0,6.35,25...|[0.07966518700514...|[0.51990577013081...|       0.0|\n",
      "|            new|1.0| 13.5|         7.15|     525.0|              1.0|[1.0,13.5,7.15,52...|[0.14770220004352...|[0.53685856567473...|       0.0|\n",
      "|            new|1.0| 13.5|         7.15|     600.0|              1.0|[1.0,13.5,7.15,60...|[0.16789312599709...|[0.54187496303689...|       0.0|\n",
      "+---------------+---+-----+-------------+----------+-----------------+--------------------+--------------------+--------------------+----------+\n",
      "only showing top 5 rows\n",
      "\n"
     ]
    }
   ],
   "source": [
    "final_test.show(5)"
   ]
  },
  {
   "cell_type": "code",
   "execution_count": 224,
   "id": "dfae1136-1658-4fc6-b549-80c214334d9c",
   "metadata": {},
   "outputs": [],
   "source": [
    "final_test = final_test.select('house_condition_x','probability')"
   ]
  },
  {
   "cell_type": "code",
   "execution_count": 225,
   "id": "5edd7010-d5ea-40e4-b857-652f9dd4a95f",
   "metadata": {},
   "outputs": [
    {
     "name": "stdout",
     "output_type": "stream",
     "text": [
      "+-----------------+--------------------+\n",
      "|house_condition_x|         probability|\n",
      "+-----------------+--------------------+\n",
      "|              1.0|[0.52995414536264...|\n",
      "|              1.0|[0.52815349443583...|\n",
      "|              1.0|[0.51990577013081...|\n",
      "|              1.0|[0.53685856567473...|\n",
      "|              1.0|[0.54187496303689...|\n",
      "|              1.0|[0.53803536704215...|\n",
      "|              1.0|[0.53803536704215...|\n",
      "|              1.0|[0.54137928553128...|\n",
      "|              1.0|[0.53419041571369...|\n",
      "|              1.0|[0.53987024445123...|\n",
      "|              1.0|[0.53784353745494...|\n",
      "|              1.0|[0.52852702726198...|\n",
      "|              1.0|[0.52869315561446...|\n",
      "|              1.0|[0.53034223627947...|\n",
      "|              1.0|[0.53369357869559...|\n",
      "|              1.0|[0.53603772828601...|\n",
      "|              1.0|[0.54406210298437...|\n",
      "|              1.0|[0.54439598522684...|\n",
      "|              1.0|[0.54639843038973...|\n",
      "|              1.0|[0.55206366758400...|\n",
      "|              1.0|[0.53979106592790...|\n",
      "|              1.0|[0.53934730135227...|\n",
      "|              1.0|[0.53269886672600...|\n",
      "|              1.0|[0.54140000245281...|\n",
      "|              1.0|[0.54273653464576...|\n",
      "|              1.0|[0.53436611390259...|\n",
      "|              1.0|[0.53568461110105...|\n",
      "|              1.0|[0.53438425341032...|\n",
      "|              1.0|[0.53672794485788...|\n",
      "|              1.0|[0.54207870031196...|\n",
      "+-----------------+--------------------+\n",
      "only showing top 30 rows\n",
      "\n"
     ]
    },
    {
     "name": "stderr",
     "output_type": "stream",
     "text": [
      "22/04/26 22:52:30 WARN HeartbeatReceiver: Removing executor driver with no recent heartbeats: 2627611 ms exceeds timeout 120000 ms\n",
      "22/04/26 22:52:30 WARN SparkContext: Killing executors is not supported by current scheduler.\n"
     ]
    }
   ],
   "source": [
    "final_test.show(30)"
   ]
  }
 ],
 "metadata": {
  "kernelspec": {
   "display_name": "Python 3 (ipykernel)",
   "language": "python",
   "name": "python3"
  },
  "language_info": {
   "codemirror_mode": {
    "name": "ipython",
    "version": 3
   },
   "file_extension": ".py",
   "mimetype": "text/x-python",
   "name": "python",
   "nbconvert_exporter": "python",
   "pygments_lexer": "ipython3",
   "version": "3.9.12"
  }
 },
 "nbformat": 4,
 "nbformat_minor": 5
}
