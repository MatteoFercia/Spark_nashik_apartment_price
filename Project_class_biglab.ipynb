{
 "cells": [
  {
   "cell_type": "markdown",
   "id": "4ebf4930-bda0-4a80-9a77-3444d838a695",
   "metadata": {
    "tags": []
   },
   "source": [
    "# Spark session and import ds"
   ]
  },
  {
   "cell_type": "code",
   "execution_count": 56,
   "id": "220b3f3c-1b5e-4641-bb42-9ae07fb4c01b",
   "metadata": {},
   "outputs": [
    {
     "data": {
      "text/html": [
       "\n",
       "        <div>\n",
       "            <p><b>SparkContext</b></p>\n",
       "\n",
       "            <p><a href=\"http://matteos-air.homenet.telecomitalia.it:4049\">Spark UI</a></p>\n",
       "\n",
       "            <dl>\n",
       "              <dt>Version</dt>\n",
       "                <dd><code>v3.2.1</code></dd>\n",
       "              <dt>Master</dt>\n",
       "                <dd><code>local[*]</code></dd>\n",
       "              <dt>AppName</dt>\n",
       "                <dd><code>PySparkShell</code></dd>\n",
       "            </dl>\n",
       "        </div>\n",
       "        "
      ],
      "text/plain": [
       "<SparkContext master=local[*] appName=PySparkShell>"
      ]
     },
     "execution_count": 56,
     "metadata": {},
     "output_type": "execute_result"
    }
   ],
   "source": [
    "##link_dataset: https://www.kaggle.com/datasets/rushikeshdane20/nashik-apartment-price-prediction\n",
    "\n",
    "from pyspark.sql import SparkSession\n",
    "from pyspark.sql import functions\n",
    "spark = SparkSession.builder.appName('pyspark - example join').getOrCreate()\n",
    "sc = spark.sparkContext\n",
    "sc"
   ]
  },
  {
   "cell_type": "code",
   "execution_count": 243,
   "id": "f0731956-1a38-4ffd-9eee-cb685b9f48d6",
   "metadata": {},
   "outputs": [],
   "source": [
    "from pyspark.ml.linalg import Vectors\n",
    "from pyspark.ml.feature import VectorAssembler\n",
    "from pyspark.ml.regression import LinearRegression as LinearRegressor\n",
    "from pyspark.ml.feature import StringIndexer\n",
    "import matplotlib.pyplot as plt\n",
    "from pyspark.ml.clustering import KMeans\n",
    "from pyspark.ml.evaluation import ClusteringEvaluator\n",
    "from pyspark.ml.feature import StandardScaler\n",
    "import pandas as pd\n",
    "import numpy as np\n",
    "from pyspark.ml.classification import RandomForestClassifier as RF\n",
    "from pyspark.ml.evaluation import MulticlassClassificationEvaluator as Tester\n",
    "from pyspark.ml.classification import LogisticRegression as LogisticRegressor\n",
    "from pyspark.ml.feature import MinMaxScaler\n",
    "from pyspark.ml.evaluation import BinaryClassificationEvaluator as BinaryEvaluator"
   ]
  },
  {
   "cell_type": "code",
   "execution_count": 58,
   "id": "96c10823-712c-42a8-a09b-3d3a8c84aaa2",
   "metadata": {},
   "outputs": [],
   "source": [
    "dname = \"project_biglab.csv\"\n",
    "datapath = os.path.join(\"/Users/matteofercia/Desktop/datascience/lab_bigdata/project\")"
   ]
  },
  {
   "cell_type": "code",
   "execution_count": 59,
   "id": "3bee27ed-84f8-4f81-bbfa-5958c002f9ae",
   "metadata": {},
   "outputs": [
    {
     "name": "stderr",
     "output_type": "stream",
     "text": [
      "                                                                                \r"
     ]
    }
   ],
   "source": [
    "df = spark.read.csv(os.path.join(datapath,dname), header=True, inferSchema=True)"
   ]
  },
  {
   "cell_type": "markdown",
   "id": "e57ecbc6-d726-44ce-9068-b5f6c30d7eab",
   "metadata": {
    "jp-MarkdownHeadingCollapsed": true,
    "tags": []
   },
   "source": [
    "# Class definition"
   ]
  },
  {
   "cell_type": "code",
   "execution_count": 248,
   "id": "6f2bbc36-f0a5-4ed2-8cb1-cba1065b7582",
   "metadata": {},
   "outputs": [],
   "source": [
    "class Data_set(object):\n",
    "    \n",
    "    def __init__(self,data):\n",
    "        self.data = data\n",
    "        \n",
    "    def split_data(self, dataset, target):\n",
    "        features = [ x for x in dataset.columns ]\n",
    "        features.remove(target)\n",
    "        assembler= VectorAssembler(inputCols=features, outputCol=\"features\")\n",
    "        assembled = assembler.transform(self.data)\n",
    "        final_data = assembled.select(\"features\",target)\n",
    "        training_set, test_set = final_data.randomSplit([0.8,0.2], seed=0)\n",
    "        return training_set, test_set\n",
    "        \n",
    "    def linear_regression(self, target):\n",
    "        training_set, test_set = self.split_data(self.data, target)\n",
    "        regressor = LinearRegressor(featuresCol='features', labelCol=target,predictionCol='prediction')\n",
    "        model = regressor.fit(training_set)\n",
    "        test_data = test_set.select('features')\n",
    "        training_data = training_set.select('features')\n",
    "        predictions_training = model.transform(training_data)\n",
    "        predictions_test = model.transform(test_data)\n",
    "        training_result = model.evaluate(training_set)\n",
    "        test_result = model.evaluate(test_set)\n",
    "        price_target = test_set.select(target)\n",
    "        price_points = [ item for item in price_target.collect()]\n",
    "        performance = model.evaluate(test_set)\n",
    "        prediction = performance.predictions.select('prediction')\n",
    "        pred_points = [ item for item in prediction.collect() ]\n",
    "        \n",
    "        return ('Training set results:',('RMSE:{}'.format(training_result.rootMeanSquaredError)),('MSE:{}'.format(training_result.meanSquaredError)),\n",
    "                ('R2:{}'.format(model.summary.r2)),'-----------------------------',\n",
    "               'Test set results:',('RMSE:{}'.format(test_result.rootMeanSquaredError)),\n",
    "                ('MSE:{}'.format(test_result.meanSquaredError)),\n",
    "                ('R2:{}'.format(test_result.r2))), plt.scatter(price_points, pred_points)\n",
    "    \n",
    "    def clustering(self, n_cluster):\n",
    "        assembler = VectorAssembler(inputCols=self.data.columns, outputCol='features')\n",
    "        output = assembler.transform(self.data)\n",
    "        scaler = StandardScaler(inputCol='features',outputCol='scaled', withStd=True,withMean=False)\n",
    "        model = scaler.fit(output)\n",
    "        output = model.transform(output)\n",
    "        kmeans = KMeans(featuresCol='scaled', k=n_cluster)\n",
    "        model = kmeans.fit(output)\n",
    "        predictions = model.transform(output)\n",
    "        tester = ClusteringEvaluator()\n",
    "        silhouette = tester.evaluate(predictions)\n",
    "        centers = model.clusterCenters()\n",
    "        return silhouette\n",
    "    \n",
    "    def clustering2(self, n1, n2):\n",
    "        assembler = VectorAssembler(inputCols=self.data.columns, outputCol='features')\n",
    "        output = assembler.transform(self.data)\n",
    "        scaler = StandardScaler(inputCol='features',outputCol='scaled', withStd=True,withMean=False)\n",
    "        model = scaler.fit(output)\n",
    "        output = model.transform(output)\n",
    "        tester = ClusteringEvaluator()\n",
    "        summary = []\n",
    "        for n in range(n1,n2):\n",
    "            kmeans = KMeans(featuresCol='scaled', k=n)\n",
    "            model = kmeans.fit(output)\n",
    "            predictions = model.transform(output)\n",
    "            silhouette = tester.evaluate(predictions)\n",
    "            summary += [ silhouette ]\n",
    "            print(f\"Num of clusters: {n} -- Silhouette with euclidean distance: {silhouette}\")\n",
    "        print(summary)\n",
    "        return plt.plot(range(n1,n2) ,summary)  \n",
    "    \n",
    "    def rf(self, target, maxDepth=5, numTrees=20):\n",
    "        indexed = StringIndexer(inputCol=target, outputCol=\"target\").fit(self.data).transform(self.data)\n",
    "        indexed = indexed.drop(target)\n",
    "        assembler = VectorAssembler(inputCols = indexed.columns[:-1], outputCol = \"features\")\n",
    "        assembled = assembler.transform(indexed)\n",
    "        selected = assembled.select('features','target')\n",
    "        training_set, test_set = selected.randomSplit([0.8,0.2], seed=0)\n",
    "        classifier = RF(maxDepth=5,numTrees=20,labelCol=\"target\")\n",
    "        model = classifier.fit(training_set)\n",
    "        print(f\"Feature Importance:{model.featureImportances}\")\n",
    "        predictions = model.transform(test_set)\n",
    "        tester = Tester(predictionCol='prediction', labelCol='target')\n",
    "        accuracy = tester.evaluate(predictions)\n",
    "        return print(f\"Final accuracy is: {accuracy:5.4f}\")\n",
    "        \n",
    "    def reg_log(self, target):\n",
    "        indexed = StringIndexer(inputCol=target, outputCol=\"target\").fit(self.data).transform(self.data)\n",
    "        indexed = indexed.drop(target)\n",
    "        assembler = VectorAssembler(inputCols = indexed.columns[:-1], outputCol = \"features\")\n",
    "        assembled = assembler.transform(indexed)\n",
    "        scaler = MinMaxScaler(inputCol=\"features\", outputCol=\"scaled_features\")\n",
    "        model = scaler.fit(assembled)\n",
    "        scaled = model.transform(assembled).select('scaled_features','target')\n",
    "        scaled = scaled.withColumnRenamed('scaled_features','features')\n",
    "        training_set, test_set = scaled.randomSplit([0.7,0.3], seed=0)\n",
    "        regressor = LogisticRegressor(featuresCol=\"features\",labelCol='target')\n",
    "        model = regressor.fit(training_set)\n",
    "        performance = model.evaluate(test_set)\n",
    "        predictions = performance.predictions.select('target','prediction')\n",
    "        evaluator = BinaryEvaluator(rawPredictionCol='prediction', labelCol='target')\n",
    "        accuracy = evaluator.evaluate(predictions)\n",
    "        return print(f\"Accuracy: {accuracy}\")\n",
    "        "
   ]
  },
  {
   "cell_type": "markdown",
   "id": "16e604ba-a76e-481b-bc8f-99c3aaf648aa",
   "metadata": {
    "jp-MarkdownHeadingCollapsed": true,
    "tags": []
   },
   "source": [
    "# Linear regression"
   ]
  },
  {
   "cell_type": "code",
   "execution_count": null,
   "id": "4630834e-a046-470f-873e-f3c07fbeb8d2",
   "metadata": {},
   "outputs": [],
   "source": [
    "df2 = df.alias('df2')\n",
    "df2 = df2.drop('_c0','address','latitude','longitude','owners')\n",
    "df2 = df2.where(\"total_sqft<25000\")\n",
    "df2 = df2.where(\"per_month_emi<300\")\n",
    "df2 = df2.na.drop()\n",
    "df2 = df2.where(\"price<150\") #cutting oper month emi over 300"
   ]
  },
  {
   "cell_type": "code",
   "execution_count": 60,
   "id": "948cdfa1-2328-4c0d-97d9-c0406d9a21ce",
   "metadata": {},
   "outputs": [],
   "source": [
    "indexed = StringIndexer(inputCol=\"cordinates\", outputCol=\"cordinates_x\", ).fit(df2).transform(df2)\n",
    "indexed = StringIndexer(inputCol=\"house_condition\", outputCol=\"house_condition_x\").fit(indexed).transform(indexed)\n",
    "indexed = StringIndexer(inputCol=\"housetype\", outputCol=\"housetype_x\").fit(indexed).transform(indexed)"
   ]
  },
  {
   "cell_type": "code",
   "execution_count": 61,
   "id": "e65782b5-5a2f-4d60-8f5d-8433d26c9b77",
   "metadata": {},
   "outputs": [],
   "source": [
    "indexed = indexed.drop(\"owners\",\"housetype\",\"house_condition\",\"cordinates\",\"cordinates_x\")"
   ]
  },
  {
   "cell_type": "code",
   "execution_count": 62,
   "id": "dcffed87-cba9-4ce8-be6d-b0d77d9a98b8",
   "metadata": {},
   "outputs": [
    {
     "name": "stdout",
     "output_type": "stream",
     "text": [
      "root\n",
      " |-- BHK: double (nullable = true)\n",
      " |-- price: double (nullable = true)\n",
      " |-- per_month_emi: double (nullable = true)\n",
      " |-- total_sqft: double (nullable = true)\n",
      " |-- house_condition_x: double (nullable = false)\n",
      " |-- housetype_x: double (nullable = false)\n",
      "\n"
     ]
    }
   ],
   "source": [
    "indexed.printSchema()"
   ]
  },
  {
   "cell_type": "code",
   "execution_count": 112,
   "id": "5f20f053-d780-4de1-bb0a-b2b724482777",
   "metadata": {},
   "outputs": [],
   "source": [
    "analisi = Data_set(indexed)"
   ]
  },
  {
   "cell_type": "code",
   "execution_count": 113,
   "id": "5976ff55-1c9c-4e6e-80fb-87a466c556c6",
   "metadata": {},
   "outputs": [
    {
     "name": "stderr",
     "output_type": "stream",
     "text": [
      "22/04/22 09:38:59 WARN Instrumentation: [1ae3ecd9] regParam is zero, which might cause numerical instability and overfitting.\n"
     ]
    },
    {
     "data": {
      "text/plain": [
       "(('Training set results:',\n",
       "  'RMSE:6.937765963946868',\n",
       "  'MSE:48.132596570499615',\n",
       "  'R2:0.9107088603043545',\n",
       "  '-----------------------------',\n",
       "  'Test set results:',\n",
       "  'RMSE:7.044651043806006',\n",
       "  'MSE:49.627108328997046',\n",
       "  'R2:0.9132138990781951'),\n",
       " <matplotlib.collections.PathCollection at 0x11a667310>)"
      ]
     },
     "execution_count": 113,
     "metadata": {},
     "output_type": "execute_result"
    },
    {
     "data": {
      "image/png": "[encoded data removed]",
      "text/plain": [
       "<Figure size 432x288 with 1 Axes>"
      ]
     },
     "metadata": {
      "needs_background": "light"
     },
     "output_type": "display_data"
    }
   ],
   "source": [
    "analisi.linear_regression('price')"
   ]
  },
  {
   "cell_type": "markdown",
   "id": "80086892-b0a9-44f7-b8a4-79f223e81ffd",
   "metadata": {
    "jp-MarkdownHeadingCollapsed": true,
    "tags": []
   },
   "source": [
    "# Clustering"
   ]
  },
  {
   "cell_type": "code",
   "execution_count": 197,
   "id": "7b29da43-f73b-481d-a10b-e43b6cab1d88",
   "metadata": {},
   "outputs": [],
   "source": [
    "df3 = df.alias('df3')\n",
    "df3 = df3.where(\"total_sqft<25000\")\n",
    "df3 = df3.where(\"per_month_emi<300\")\n",
    "df3 = df3.drop('_c0','address','latitude','longitude','owners','housetype','house_condition','cordinates')\n",
    "df3 = df3.where(\"total_sqft<6000\")\n",
    "df3 = df3.na.drop()"
   ]
  },
  {
   "cell_type": "code",
   "execution_count": 200,
   "id": "64049ac5-8d38-4ba1-90a8-cb986114c9a5",
   "metadata": {},
   "outputs": [],
   "source": [
    "analisi_cluster = Data_set(df3)"
   ]
  },
  {
   "cell_type": "code",
   "execution_count": 202,
   "id": "dd9398a5-37f9-4b36-a560-8160a56c7f09",
   "metadata": {},
   "outputs": [
    {
     "name": "stdout",
     "output_type": "stream",
     "text": [
      "Num of clusters: 3 -- Silhouette with euclidean distance: 0.6252080690780363\n",
      "Num of clusters: 4 -- Silhouette with euclidean distance: 0.5991722847638973\n",
      "Num of clusters: 5 -- Silhouette with euclidean distance: 0.36200952170911493\n",
      "Num of clusters: 6 -- Silhouette with euclidean distance: 0.41320249981892915\n",
      "Num of clusters: 7 -- Silhouette with euclidean distance: 0.35445302388614497\n",
      "Num of clusters: 8 -- Silhouette with euclidean distance: 0.2377083367943641\n",
      "[0.6252080690780363, 0.5991722847638973, 0.36200952170911493, 0.41320249981892915, 0.35445302388614497, 0.2377083367943641]\n"
     ]
    },
    {
     "data": {
      "text/plain": [
       "[<matplotlib.lines.Line2D at 0x11fdb7b50>]"
      ]
     },
     "execution_count": 202,
     "metadata": {},
     "output_type": "execute_result"
    },
    {
     "data": {
      "image/png": "[encoded data removed]",
      "text/plain": [
       "<Figure size 432x288 with 1 Axes>"
      ]
     },
     "metadata": {
      "needs_background": "light"
     },
     "output_type": "display_data"
    }
   ],
   "source": [
    "analisi_cluster.clustering2(3,9)"
   ]
  },
  {
   "cell_type": "markdown",
   "id": "a8bdf4d6-1163-48bf-93af-d637df4b9c63",
   "metadata": {
    "jp-MarkdownHeadingCollapsed": true,
    "tags": []
   },
   "source": [
    "# Classification"
   ]
  },
  {
   "cell_type": "markdown",
   "id": "a12867a2-bec3-47aa-beda-505e5b4c1728",
   "metadata": {
    "jp-MarkdownHeadingCollapsed": true,
    "tags": []
   },
   "source": [
    "## RF"
   ]
  },
  {
   "cell_type": "code",
   "execution_count": 238,
   "id": "3bf857a1-b0fa-4def-b337-1b0dad624435",
   "metadata": {},
   "outputs": [],
   "source": [
    "df4 = df2.alias('df4')\n",
    "df4 = df4.drop('housetype','cordinates')"
   ]
  },
  {
   "cell_type": "code",
   "execution_count": 239,
   "id": "714f922b-9bc3-4e89-aae7-63baf416a529",
   "metadata": {},
   "outputs": [],
   "source": [
    "analisi = Data_set(df4)"
   ]
  },
  {
   "cell_type": "code",
   "execution_count": 241,
   "id": "7c26b187-6298-41ca-81f9-441c0e5099b3",
   "metadata": {},
   "outputs": [
    {
     "name": "stdout",
     "output_type": "stream",
     "text": [
      "Feature Importance:(4,[0,1,2,3],[0.0753126040674132,0.5325516196198363,0.23941771192300476,0.15271806438974578])\n",
      "Final accuracy is: 0.6402\n"
     ]
    }
   ],
   "source": [
    "analisi.rf('house_condition',6,30)"
   ]
  },
  {
   "cell_type": "markdown",
   "id": "403bfaaa-ad59-403a-919d-777ea05c598c",
   "metadata": {
    "jp-MarkdownHeadingCollapsed": true,
    "tags": []
   },
   "source": [
    "## Logistic regression"
   ]
  },
  {
   "cell_type": "code",
   "execution_count": 249,
   "id": "e3fb7fa6-d7b0-4f42-9c6e-bc00e5962dbc",
   "metadata": {},
   "outputs": [],
   "source": [
    "analisi = Data_set(df4)"
   ]
  },
  {
   "cell_type": "code",
   "execution_count": 250,
   "id": "3682ad27-f2d3-48a8-9af7-268d08cf1a08",
   "metadata": {},
   "outputs": [
    {
     "name": "stdout",
     "output_type": "stream",
     "text": [
      "Accuracy: 0.5960999184582646\n"
     ]
    }
   ],
   "source": [
    "analisi.reg_log('house_condition')"
   ]
  }
 ],
 "metadata": {
  "kernelspec": {
   "display_name": "Python 3 (ipykernel)",
   "language": "python",
   "name": "python3"
  },
  "language_info": {
   "codemirror_mode": {
    "name": "ipython",
    "version": 3
   },
   "file_extension": ".py",
   "mimetype": "text/x-python",
   "name": "python",
   "nbconvert_exporter": "python",
   "pygments_lexer": "ipython3",
   "version": "3.9.12"
  }
 },
 "nbformat": 4,
 "nbformat_minor": 5
}
