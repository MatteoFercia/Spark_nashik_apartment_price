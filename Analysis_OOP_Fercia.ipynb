{
 "cells": [
  {
   "cell_type": "markdown",
   "id": "4ebf4930-bda0-4a80-9a77-3444d838a695",
   "metadata": {
    "tags": []
   },
   "source": [
    "# Spark session and import ds"
   ]
  },
  {
   "cell_type": "code",
   "execution_count": 2,
   "id": "220b3f3c-1b5e-4641-bb42-9ae07fb4c01b",
   "metadata": {},
   "outputs": [
    {
     "data": {
      "text/html": [
       "\n",
       "        <div>\n",
       "            <p><b>SparkContext</b></p>\n",
       "\n",
       "            <p><a href=\"http://matteos-air.homenet.telecomitalia.it:4040\">Spark UI</a></p>\n",
       "\n",
       "            <dl>\n",
       "              <dt>Version</dt>\n",
       "                <dd><code>v3.2.1</code></dd>\n",
       "              <dt>Master</dt>\n",
       "                <dd><code>local[*]</code></dd>\n",
       "              <dt>AppName</dt>\n",
       "                <dd><code>PySparkShell</code></dd>\n",
       "            </dl>\n",
       "        </div>\n",
       "        "
      ],
      "text/plain": [
       "<SparkContext master=local[*] appName=PySparkShell>"
      ]
     },
     "execution_count": 2,
     "metadata": {},
     "output_type": "execute_result"
    }
   ],
   "source": [
    "##link_dataset: https://www.kaggle.com/datasets/rushikeshdane20/nashik-apartment-price-prediction\n",
    "\n",
    "from pyspark.sql import SparkSession\n",
    "from pyspark.sql import functions\n",
    "spark = SparkSession.builder.appName('pyspark - example join').getOrCreate()\n",
    "sc = spark.sparkContext\n",
    "sc"
   ]
  },
  {
   "cell_type": "code",
   "execution_count": 3,
   "id": "f0731956-1a38-4ffd-9eee-cb685b9f48d6",
   "metadata": {},
   "outputs": [],
   "source": [
    "from pyspark.ml.linalg import Vectors\n",
    "from pyspark.ml.feature import VectorAssembler\n",
    "from pyspark.ml.regression import LinearRegression as LinearRegressor\n",
    "from pyspark.ml.feature import StringIndexer\n",
    "import matplotlib.pyplot as plt\n",
    "from pyspark.ml.clustering import KMeans\n",
    "from pyspark.ml.evaluation import ClusteringEvaluator\n",
    "from pyspark.ml.feature import StandardScaler\n",
    "import pandas as pd\n",
    "import numpy as np\n",
    "from pyspark.ml.classification import RandomForestClassifier as RF\n",
    "from pyspark.ml.evaluation import MulticlassClassificationEvaluator as Tester\n",
    "from pyspark.ml.classification import LogisticRegression as LogisticRegressor\n",
    "from pyspark.ml.feature import MinMaxScaler\n",
    "from pyspark.ml.evaluation import BinaryClassificationEvaluator as BinaryEvaluator"
   ]
  },
  {
   "cell_type": "code",
   "execution_count": 4,
   "id": "96c10823-712c-42a8-a09b-3d3a8c84aaa2",
   "metadata": {},
   "outputs": [],
   "source": [
    "dname = \"project_biglab.csv\"\n",
    "datapath = os.path.join(\"/Users/matteofercia/Desktop/datascience/lab_bigdata/project\")"
   ]
  },
  {
   "cell_type": "code",
   "execution_count": 5,
   "id": "3bee27ed-84f8-4f81-bbfa-5958c002f9ae",
   "metadata": {},
   "outputs": [
    {
     "name": "stderr",
     "output_type": "stream",
     "text": [
      "                                                                                \r"
     ]
    }
   ],
   "source": [
    "df = spark.read.csv(os.path.join(datapath,dname), header=True, inferSchema=True)"
   ]
  },
  {
   "cell_type": "markdown",
   "id": "e57ecbc6-d726-44ce-9068-b5f6c30d7eab",
   "metadata": {
    "tags": []
   },
   "source": [
    "# Class definition"
   ]
  },
  {
   "cell_type": "code",
   "execution_count": 221,
   "id": "6f2bbc36-f0a5-4ed2-8cb1-cba1065b7582",
   "metadata": {},
   "outputs": [],
   "source": [
    "class ExpCollector(object):\n",
    "    \n",
    "    def __init__(self,data):\n",
    "        self.data = data\n",
    "        self.summary = {}\n",
    "        self.final_data_cluster = self.data.alias('final_data_cluster')\n",
    "        \n",
    "    def indexer(self, target):\n",
    "        final_data = self.data.alias('final_data')\n",
    "        for col in self.data.dtypes:\n",
    "            if col[1] == 'string':\n",
    "                final_data = StringIndexer(inputCol=col[0], outputCol= col[0]+'x').fit(self.data).transform(self.data)\n",
    "                final_data = final_data.drop(col[0])\n",
    "        features = [ x for x in final_data.columns ]\n",
    "        features.remove(target)\n",
    "        assembler= VectorAssembler(inputCols=features, outputCol=\"features\")\n",
    "        assembled = assembler.transform(final_data)\n",
    "        final_data = assembled.select(\"features\",target)\n",
    "        return final_data\n",
    "    \n",
    "    def make_linear_regression(self, target):\n",
    "        training_set, test_set = self.indexer(target).randomSplit([0.8,0.2], seed=0)\n",
    "        regressor = LinearRegressor(featuresCol='features', labelCol=target,predictionCol='prediction')\n",
    "        model = regressor.fit(training_set)\n",
    "        test_data = test_set.select('features')\n",
    "        training_data = training_set.select('features')\n",
    "        predictions_training = model.transform(training_data)\n",
    "        predictions_test = model.transform(test_data)\n",
    "        training_result = model.evaluate(training_set)\n",
    "        test_result = model.evaluate(test_set)\n",
    "        price_target = test_set.select(target)\n",
    "        price_points = [ item for item in price_target.collect()]\n",
    "        performance = model.evaluate(test_set)\n",
    "        prediction = performance.predictions.select('prediction')\n",
    "        pred_points = [ item for item in prediction.collect() ]\n",
    "        results = [('Training set results:',('RMSE:{}'.format(training_result.rootMeanSquaredError)),('MSE:{}'.format(training_result.meanSquaredError)),\n",
    "                ('R2:{}'.format(model.summary.r2)),'-----------------------------',\n",
    "               'Test set results:',('RMSE:{}'.format(test_result.rootMeanSquaredError)),\n",
    "                ('MSE:{}'.format(test_result.meanSquaredError)),\n",
    "                ('R2:{}'.format(test_result.r2))), plt.scatter(price_points, pred_points)]\n",
    "        self.summary['linear_regression'] = results\n",
    "        return results\n",
    "    \n",
    "    def remove_string_column(self):\n",
    "        for col in self.data.dtypes:\n",
    "            if col[1] == 'string':\n",
    "                self.final_data_cluster = self.final_data_cluster.drop(col[0])\n",
    "        return self.final_data_cluster.columns\n",
    "    \n",
    "    def make_clustering(self, n_cluster):\n",
    "        assembler = VectorAssembler(inputCols=self.remove_string_column(), outputCol='features')\n",
    "        output = assembler.transform(self.final_data_cluster)\n",
    "        scaler = StandardScaler(inputCol='features',outputCol='scaled', withStd=True,withMean=False)\n",
    "        model = scaler.fit(output)\n",
    "        output = model.transform(output)\n",
    "        kmeans = KMeans(featuresCol='scaled', k=n_cluster)\n",
    "        model = kmeans.fit(output)\n",
    "        predictions = model.transform(output)\n",
    "        tester = ClusteringEvaluator()\n",
    "        silhouette = tester.evaluate(predictions)\n",
    "        centers = model.clusterCenters()\n",
    "        self.summary['kmeans {} clusters'.format(n_cluster)] = silhouette\n",
    "        return silhouette\n",
    "    \n",
    "    def make_clustering2(self, n1, n2):\n",
    "        assembler = VectorAssembler(inputCols=self.remove_string_column(), outputCol='features')\n",
    "        output = assembler.transform(self.final_data_cluster)\n",
    "        scaler = StandardScaler(inputCol='features',outputCol='scaled', withStd=True,withMean=False)\n",
    "        model = scaler.fit(output)\n",
    "        output = model.transform(output)\n",
    "        tester = ClusteringEvaluator()\n",
    "        summary = []\n",
    "        for n in range(n1,n2):\n",
    "            kmeans = KMeans(featuresCol='scaled', k=n)\n",
    "            model = kmeans.fit(output)\n",
    "            predictions = model.transform(output)\n",
    "            silhouette = tester.evaluate(predictions)\n",
    "            summary += [ silhouette ]\n",
    "            print(f\"Num of clusters: {n} -- Silhouette with euclidean distance: {silhouette}\")\n",
    "        print(summary)\n",
    "        self.summary['kmeans from {} to {} clusters'.format(n1,n2)] = summary\n",
    "        return plt.plot(range(n1,n2) ,summary)  \n",
    "    \n",
    "    def encoding(self, target):\n",
    "        indexed = StringIndexer(inputCol=target, outputCol=\"target\").fit(self.data).transform(self.data)\n",
    "        indexed = indexed.drop(target)\n",
    "        assembler = VectorAssembler(inputCols = indexed.columns[:-1], outputCol = \"features\")\n",
    "        assembled = assembler.transform(indexed)\n",
    "        selected = assembled.select('features','target')\n",
    "        return selected\n",
    "    \n",
    "    def run_rf(self, target, maxDepth=5, numTrees=20):\n",
    "        training_set, test_set = self.encoding(target).randomSplit([0.7,0.3], seed=0)\n",
    "        classifier = RF(maxDepth=5,numTrees=20,labelCol=\"target\")\n",
    "        model = classifier.fit(training_set)\n",
    "        print(f\"Feature Importance:{model.featureImportances}\")\n",
    "        predictions = model.transform(test_set)\n",
    "        tester = Tester(predictionCol='prediction', labelCol='target')\n",
    "        accuracy = tester.evaluate(predictions)\n",
    "        self.summary['random_forest'] = accuracy\n",
    "        print(f\"Final accuracy is: {accuracy:5.4f}\")\n",
    "        \n",
    "    def run_reg_log(self, target):\n",
    "        scaler = MinMaxScaler(inputCol=\"features\", outputCol=\"scaled_features\")\n",
    "        model = scaler.fit(self.encoding(target))\n",
    "        scaled = model.transform(self.encoding(target)).select('scaled_features','target')\n",
    "        training_set, test_set = scaled.randomSplit([0.7,0.3], seed=0)\n",
    "        regressor = LogisticRegressor(featuresCol=\"scaled_features\",labelCol='target')\n",
    "        model = regressor.fit(training_set)\n",
    "        performance = model.evaluate(test_set)\n",
    "        predictions = performance.predictions.select('target','prediction')\n",
    "        evaluator = BinaryEvaluator(rawPredictionCol='prediction', labelCol='target')\n",
    "        accuracy = evaluator.evaluate(predictions)\n",
    "        self.summary['logistic_regression'] = accuracy\n",
    "        print(f\"Accuracy: {accuracy}\")\n",
    "        \n",
    "    def display_summary(self, exp=''):\n",
    "        if exp in self.summary:\n",
    "            return self.summary[exp]\n",
    "        else:\n",
    "            return self.summary\n",
    "        "
   ]
  },
  {
   "cell_type": "markdown",
   "id": "16e604ba-a76e-481b-bc8f-99c3aaf648aa",
   "metadata": {
    "tags": []
   },
   "source": [
    "# Linear regression"
   ]
  },
  {
   "cell_type": "code",
   "execution_count": 156,
   "id": "4630834e-a046-470f-873e-f3c07fbeb8d2",
   "metadata": {},
   "outputs": [],
   "source": [
    "df2 = df.alias('df2')\n",
    "df2 = df2.drop('_c0','address','latitude','longitude','owners')\n",
    "df2 = df2.where(\"total_sqft<25000\")\n",
    "df2 = df2.where(\"per_month_emi<300\")\n",
    "df2 = df2.na.drop()\n",
    "df2 = df2.where(\"price<150\") #cutting oper month emi over 300"
   ]
  },
  {
   "cell_type": "code",
   "execution_count": 157,
   "id": "5f20f053-d780-4de1-bb0a-b2b724482777",
   "metadata": {},
   "outputs": [],
   "source": [
    "analyzer = ExpCollector(indexed)"
   ]
  },
  {
   "cell_type": "code",
   "execution_count": 158,
   "id": "5976ff55-1c9c-4e6e-80fb-87a466c556c6",
   "metadata": {},
   "outputs": [
    {
     "name": "stderr",
     "output_type": "stream",
     "text": [
      "22/05/01 20:16:46 WARN Instrumentation: [0023868d] regParam is zero, which might cause numerical instability and overfitting.\n"
     ]
    },
    {
     "data": {
      "text/plain": [
       "[('Training set results:',\n",
       "  'RMSE:6.937765963946868',\n",
       "  'MSE:48.132596570499615',\n",
       "  'R2:0.9107088603043545',\n",
       "  '-----------------------------',\n",
       "  'Test set results:',\n",
       "  'RMSE:7.044651043806006',\n",
       "  'MSE:49.627108328997046',\n",
       "  'R2:0.9132138990781951'),\n",
       " <matplotlib.collections.PathCollection at 0x124a970d0>]"
      ]
     },
     "execution_count": 158,
     "metadata": {},
     "output_type": "execute_result"
    },
    {
     "data": {
      "image/png": "[encoded data removed]",
      "text/plain": [
       "<Figure size 432x288 with 1 Axes>"
      ]
     },
     "metadata": {
      "needs_background": "light"
     },
     "output_type": "display_data"
    }
   ],
   "source": [
    "analyzer.make_linear_regression('price')"
   ]
  },
  {
   "cell_type": "markdown",
   "id": "80086892-b0a9-44f7-b8a4-79f223e81ffd",
   "metadata": {
    "tags": []
   },
   "source": [
    "# Clustering"
   ]
  },
  {
   "cell_type": "code",
   "execution_count": 177,
   "id": "7b29da43-f73b-481d-a10b-e43b6cab1d88",
   "metadata": {},
   "outputs": [],
   "source": [
    "df3 = df.alias('df3')\n",
    "df3 = df3.where(\"total_sqft<25000\")\n",
    "df3 = df3.where(\"per_month_emi<300\")\n",
    "df3 = df3.drop('_c0','address','latitude','longitude','owners','housetype','house_condition','cordinates')\n",
    "df3 = df3.where(\"total_sqft<6000\")\n",
    "df3 = df3.na.drop()"
   ]
  },
  {
   "cell_type": "code",
   "execution_count": 222,
   "id": "64049ac5-8d38-4ba1-90a8-cb986114c9a5",
   "metadata": {},
   "outputs": [],
   "source": [
    "analyzer = ExpCollector(df3)"
   ]
  },
  {
   "cell_type": "code",
   "execution_count": 234,
   "id": "bf3b6552-fb64-48f9-b768-3e748bcc8a65",
   "metadata": {},
   "outputs": [
    {
     "data": {
      "text/plain": [
       "0.43918089828150797"
      ]
     },
     "execution_count": 234,
     "metadata": {},
     "output_type": "execute_result"
    }
   ],
   "source": [
    "analyzer.make_clustering(3)"
   ]
  },
  {
   "cell_type": "code",
   "execution_count": 235,
   "id": "0d50d3b0-a3c5-45fb-9f73-34b6cf760c3d",
   "metadata": {},
   "outputs": [
    {
     "name": "stdout",
     "output_type": "stream",
     "text": [
      "Num of clusters: 3 -- Silhouette with euclidean distance: 0.43918089828150797\n",
      "Num of clusters: 4 -- Silhouette with euclidean distance: 0.3663491680502436\n",
      "Num of clusters: 5 -- Silhouette with euclidean distance: 0.3109474630960608\n",
      "Num of clusters: 6 -- Silhouette with euclidean distance: 0.24228625288615513\n",
      "Num of clusters: 7 -- Silhouette with euclidean distance: 0.1640489517502853\n",
      "Num of clusters: 8 -- Silhouette with euclidean distance: 0.08001428273580007\n",
      "[0.43918089828150797, 0.3663491680502436, 0.3109474630960608, 0.24228625288615513, 0.1640489517502853, 0.08001428273580007]\n"
     ]
    },
    {
     "data": {
      "text/plain": [
       "[<matplotlib.lines.Line2D at 0x126b4a610>]"
      ]
     },
     "execution_count": 235,
     "metadata": {},
     "output_type": "execute_result"
    },
    {
     "data": {
      "image/png": "[encoded data removed]",
      "text/plain": [
       "<Figure size 432x288 with 1 Axes>"
      ]
     },
     "metadata": {
      "needs_background": "light"
     },
     "output_type": "display_data"
    }
   ],
   "source": [
    "analyzer.make_clustering2(3,9)"
   ]
  },
  {
   "cell_type": "code",
   "execution_count": 182,
   "id": "7d528179-ca39-4efa-ba5d-158128b71155",
   "metadata": {},
   "outputs": [
    {
     "data": {
      "text/plain": [
       "{'kmeans from 3 to 9 clusters': [0.6252080690780363,\n",
       "  0.5991722847638973,\n",
       "  0.36200952170911493,\n",
       "  0.41320249981892915,\n",
       "  0.35445302388614497,\n",
       "  0.2377083367943641],\n",
       " 'kmeans 3 clusters': 0.6252080690780363}"
      ]
     },
     "execution_count": 182,
     "metadata": {},
     "output_type": "execute_result"
    }
   ],
   "source": [
    "analyzer.display_summary()"
   ]
  },
  {
   "cell_type": "markdown",
   "id": "a8bdf4d6-1163-48bf-93af-d637df4b9c63",
   "metadata": {
    "tags": []
   },
   "source": [
    "# Classification"
   ]
  },
  {
   "cell_type": "markdown",
   "id": "a12867a2-bec3-47aa-beda-505e5b4c1728",
   "metadata": {
    "tags": []
   },
   "source": [
    "## RF"
   ]
  },
  {
   "cell_type": "code",
   "execution_count": 224,
   "id": "3bf857a1-b0fa-4def-b337-1b0dad624435",
   "metadata": {},
   "outputs": [],
   "source": [
    "df4 = df2.alias('df4')\n",
    "df4 = df4.drop('housetype','cordinates')"
   ]
  },
  {
   "cell_type": "code",
   "execution_count": 162,
   "id": "6657dd0f-b07a-4cdc-a25e-dda168b2a215",
   "metadata": {},
   "outputs": [
    {
     "name": "stdout",
     "output_type": "stream",
     "text": [
      "root\n",
      " |-- house_condition: string (nullable = true)\n",
      " |-- BHK: double (nullable = true)\n",
      " |-- price: double (nullable = true)\n",
      " |-- per_month_emi: double (nullable = true)\n",
      " |-- total_sqft: double (nullable = true)\n",
      "\n"
     ]
    }
   ],
   "source": [
    "df4.printSchema()"
   ]
  },
  {
   "cell_type": "code",
   "execution_count": 233,
   "id": "714f922b-9bc3-4e89-aae7-63baf416a529",
   "metadata": {},
   "outputs": [],
   "source": [
    "analyzer = ExpCollector(df4)"
   ]
  },
  {
   "cell_type": "code",
   "execution_count": 236,
   "id": "7c26b187-6298-41ca-81f9-441c0e5099b3",
   "metadata": {},
   "outputs": [
    {
     "name": "stdout",
     "output_type": "stream",
     "text": [
      "Feature Importance:(4,[0,1,2,3],[0.10399365001805638,0.4975881046621494,0.2510612448370656,0.14735700048272862])\n",
      "Final accuracy is: 0.6194\n"
     ]
    }
   ],
   "source": [
    "analyzer.run_rf('house_condition',6,30)"
   ]
  },
  {
   "cell_type": "markdown",
   "id": "403bfaaa-ad59-403a-919d-777ea05c598c",
   "metadata": {
    "tags": []
   },
   "source": [
    "## Logistic regression"
   ]
  },
  {
   "cell_type": "code",
   "execution_count": 237,
   "id": "3682ad27-f2d3-48a8-9af7-268d08cf1a08",
   "metadata": {},
   "outputs": [
    {
     "name": "stdout",
     "output_type": "stream",
     "text": [
      "Accuracy: 0.5960999184582646\n"
     ]
    }
   ],
   "source": [
    "analyzer.run_reg_log('house_condition')"
   ]
  },
  {
   "cell_type": "code",
   "execution_count": 238,
   "id": "e7a4b6eb-0929-4586-be2a-42dfa400214f",
   "metadata": {},
   "outputs": [
    {
     "name": "stderr",
     "output_type": "stream",
     "text": [
      "22/05/01 21:12:19 WARN Instrumentation: [445d7304] regParam is zero, which might cause numerical instability and overfitting.\n"
     ]
    },
    {
     "data": {
      "text/plain": [
       "[('Training set results:',\n",
       "  'RMSE:7.256143512348103',\n",
       "  'MSE:52.651618671791475',\n",
       "  'R2:0.9023255886239425',\n",
       "  '-----------------------------',\n",
       "  'Test set results:',\n",
       "  'RMSE:7.398595132262446',\n",
       "  'MSE:54.73920993113756',\n",
       "  'R2:0.9042740397854734'),\n",
       " <matplotlib.collections.PathCollection at 0x126be3640>]"
      ]
     },
     "execution_count": 238,
     "metadata": {},
     "output_type": "execute_result"
    },
    {
     "data": {
      "image/png": "[encoded data removed]",
      "text/plain": [
       "<Figure size 432x288 with 1 Axes>"
      ]
     },
     "metadata": {
      "needs_background": "light"
     },
     "output_type": "display_data"
    }
   ],
   "source": [
    "analyzer.make_linear_regression('price')"
   ]
  },
  {
   "cell_type": "code",
   "execution_count": null,
   "id": "c8579ccc-be2f-4f5b-9501-0ce7b310bfea",
   "metadata": {},
   "outputs": [],
   "source": []
  },
  {
   "cell_type": "markdown",
   "id": "70d71887-c206-4923-afbf-f95e8b0ba329",
   "metadata": {},
   "source": [
    "## Display results"
   ]
  },
  {
   "cell_type": "code",
   "execution_count": 239,
   "id": "7cdb1df2-13a6-4cb3-ab44-bbaa8c59a231",
   "metadata": {},
   "outputs": [
    {
     "data": {
      "text/plain": [
       "{'kmeans 3 clusters': 0.43918089828150797,\n",
       " 'kmeans from 3 to 9 clusters': [0.43918089828150797,\n",
       "  0.3663491680502436,\n",
       "  0.3109474630960608,\n",
       "  0.24228625288615513,\n",
       "  0.1640489517502853,\n",
       "  0.08001428273580007],\n",
       " 'random_forest': 0.6193706738232356,\n",
       " 'logistic_regression': 0.5960999184582646,\n",
       " 'linear_regression': [('Training set results:',\n",
       "   'RMSE:7.256143512348103',\n",
       "   'MSE:52.651618671791475',\n",
       "   'R2:0.9023255886239425',\n",
       "   '-----------------------------',\n",
       "   'Test set results:',\n",
       "   'RMSE:7.398595132262446',\n",
       "   'MSE:54.73920993113756',\n",
       "   'R2:0.9042740397854734'),\n",
       "  <matplotlib.collections.PathCollection at 0x126be3640>]}"
      ]
     },
     "execution_count": 239,
     "metadata": {},
     "output_type": "execute_result"
    }
   ],
   "source": [
    "analyzer.display_summary()"
   ]
  },
  {
   "cell_type": "code",
   "execution_count": 168,
   "id": "4cd5bcf6-88ac-4edf-a7f0-c6905fc090d7",
   "metadata": {},
   "outputs": [
    {
     "data": {
      "text/plain": [
       "0.6193706738232356"
      ]
     },
     "execution_count": 168,
     "metadata": {},
     "output_type": "execute_result"
    }
   ],
   "source": [
    "analyzer.display_summary('random_forest')"
   ]
  },
  {
   "cell_type": "code",
   "execution_count": 240,
   "id": "15ba3bf9-6a67-46a2-a592-1da906b32392",
   "metadata": {},
   "outputs": [
    {
     "data": {
      "text/plain": [
       "0.43918089828150797"
      ]
     },
     "execution_count": 240,
     "metadata": {},
     "output_type": "execute_result"
    }
   ],
   "source": [
    "analyzer.display_summary('kmeans 3 clusters')"
   ]
  },
  {
   "cell_type": "code",
   "execution_count": null,
   "id": "02f30f9c-67eb-4a11-ab6a-ef69bd2b315d",
   "metadata": {},
   "outputs": [],
   "source": []
  }
 ],
 "metadata": {
  "kernelspec": {
   "display_name": "Python 3 (ipykernel)",
   "language": "python",
   "name": "python3"
  },
  "language_info": {
   "codemirror_mode": {
    "name": "ipython",
    "version": 3
   },
   "file_extension": ".py",
   "mimetype": "text/x-python",
   "name": "python",
   "nbconvert_exporter": "python",
   "pygments_lexer": "ipython3",
   "version": "3.9.12"
  }
 },
 "nbformat": 4,
 "nbformat_minor": 5
}
